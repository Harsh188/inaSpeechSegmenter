{
 "cells": [
  {
   "cell_type": "code",
   "execution_count": 1,
   "metadata": {},
   "outputs": [
    {
     "name": "stderr",
     "output_type": "stream",
     "text": [
      "Using TensorFlow backend.\n"
     ]
    }
   ],
   "source": [
    "# Load the API\n",
    "from inaSpeechSegmenter import Segmenter\n",
    "from inaSpeechSegmenter.export_funcs import seg2csv, seg2textgrid\n",
    "import pandas as pd\n",
    "import os\n",
    "import glob\n"
   ]
  },
  {
   "cell_type": "code",
   "execution_count": 2,
   "metadata": {},
   "outputs": [],
   "source": [
    "# select a media to analyse\n",
    "# any media supported by ffmpeg may be used (video, audio, urls)\n",
    "media = './media/musanmix.mp3'"
   ]
  },
  {
   "cell_type": "code",
   "execution_count": 3,
   "metadata": {},
   "outputs": [],
   "source": [
    "# create an instance of speech segmenter\n",
    "# this loads neural networks and may last few seconds\n",
    "# Warnings have no incidence on the results\n",
    "seg = Segmenter()"
   ]
  },
  {
   "cell_type": "code",
   "execution_count": 4,
   "metadata": {},
   "outputs": [
    {
     "name": "stderr",
     "output_type": "stream",
     "text": [
      "/home/ddoukhan/gitrepos/inaSpeechSegmenterAlbert/env/lib/python3.8/site-packages/pyannote.algorithms-0.8-py3.8.egg/pyannote/algorithms/utils/viterbi.py:86: FutureWarning: arrays to stack must be passed as a \"sequence\" type such as list or tuple. Support for non-sequence iterables such as generators is deprecated as of NumPy 1.16 and will raise an error in the future.\n",
      "  return np.vstack(\n",
      "/home/ddoukhan/gitrepos/inaSpeechSegmenterAlbert/env/lib/python3.8/site-packages/pyannote.algorithms-0.8-py3.8.egg/pyannote/algorithms/utils/viterbi.py:95: FutureWarning: arrays to stack must be passed as a \"sequence\" type such as list or tuple. Support for non-sequence iterables such as generators is deprecated as of NumPy 1.16 and will raise an error in the future.\n",
      "  return np.vstack(\n"
     ]
    }
   ],
   "source": [
    "# segmentation is performed using the __call__ method of the segmenter instance\n",
    "segmentation = seg(media)"
   ]
  },
  {
   "cell_type": "code",
   "execution_count": 5,
   "metadata": {},
   "outputs": [
    {
     "name": "stdout",
     "output_type": "stream",
     "text": [
      "[('music', 0.0, 22.48, None, None, None), ('noEnergy', 22.48, 29.080000000000002, None, None, None), ('noise', 29.080000000000002, 52.800000000000004, None, None, None), ('noEnergy', 52.800000000000004, 54.78, None, None, None), ('noise', 54.78, 55.74, None, None, None), ('noEnergy', 55.74, 63.34, None, None, None), ('male', 63.34, 68.26, 0.0073611396, array([63.34, 63.36, 63.38, 63.4 , 63.42, 63.44, 63.46, 63.48, 63.5 ,\n",
      "       63.52, 63.54, 63.56, 63.58, 63.6 , 63.62, 63.64, 63.66, 63.68,\n",
      "       63.7 , 63.72, 63.74, 63.76, 63.78, 63.8 , 63.82, 63.84, 63.86,\n",
      "       63.88, 63.9 , 63.92, 63.94, 63.96, 63.98, 64.  , 64.02, 64.04,\n",
      "       64.06, 64.08, 64.1 , 64.12, 64.14, 64.16, 64.18, 64.2 , 64.22,\n",
      "       64.24, 64.26, 64.28, 64.3 , 64.32, 64.34, 64.36, 64.38, 64.4 ,\n",
      "       64.42, 64.44, 64.46, 64.48, 64.5 , 64.52, 64.54, 64.56, 64.58,\n",
      "       64.6 , 64.62, 64.64, 64.66, 64.68, 64.7 , 64.72, 64.74, 64.76,\n",
      "       64.78, 64.8 , 64.82, 64.84, 64.86, 64.88, 64.9 , 64.92, 64.94,\n",
      "       64.96, 64.98, 65.  , 65.02, 65.04, 65.06, 65.08, 65.1 , 65.12,\n",
      "       65.14, 65.16, 65.18, 65.2 , 65.22, 65.24, 65.26, 65.28, 65.3 ,\n",
      "       65.32, 65.34, 65.36, 65.38, 65.4 , 65.42, 65.44, 65.46, 65.48,\n",
      "       65.5 , 65.52, 65.54, 65.56, 65.58, 65.6 , 65.62, 65.64, 65.66,\n",
      "       65.68, 65.7 , 65.72, 65.74, 65.76, 65.78, 65.8 , 65.82, 65.84,\n",
      "       65.86, 65.88, 65.9 , 65.92, 65.94, 65.96, 65.98, 66.  , 66.02,\n",
      "       66.04, 66.06, 66.08, 66.1 , 66.12, 66.14, 66.16, 66.18, 66.2 ,\n",
      "       66.22, 66.24, 66.26, 66.28, 66.3 , 66.32, 66.34, 66.36, 66.38,\n",
      "       66.4 , 66.42, 66.44, 66.46, 66.48, 66.5 , 66.52, 66.54, 66.56,\n",
      "       66.58, 66.6 , 66.62, 66.64, 66.66, 66.68, 66.7 , 66.72, 66.74,\n",
      "       66.76, 66.78, 66.8 , 66.82, 66.84, 66.86, 66.88, 66.9 , 66.92,\n",
      "       66.94, 66.96, 66.98, 67.  , 67.02, 67.04, 67.06, 67.08, 67.1 ,\n",
      "       67.12, 67.14, 67.16, 67.18, 67.2 , 67.22, 67.24, 67.26, 67.28,\n",
      "       67.3 , 67.32, 67.34, 67.36, 67.38, 67.4 , 67.42, 67.44, 67.46,\n",
      "       67.48, 67.5 , 67.52, 67.54, 67.56, 67.58, 67.6 , 67.62, 67.64,\n",
      "       67.66, 67.68, 67.7 , 67.72, 67.74, 67.76, 67.78, 67.8 , 67.82,\n",
      "       67.84, 67.86, 67.88, 67.9 , 67.92, 67.94, 67.96, 67.98, 68.  ,\n",
      "       68.02, 68.04, 68.06, 68.08, 68.1 , 68.12, 68.14, 68.16, 68.18,\n",
      "       68.2 , 68.22, 68.24]), array([1.65443780e-04, 1.38883683e-04, 1.04844075e-04, 3.43296560e-05,\n",
      "       8.33611921e-05, 5.91391399e-05, 3.80087149e-05, 6.04884081e-05,\n",
      "       1.07277527e-04, 4.89121412e-05, 5.52229794e-05, 1.28916232e-04,\n",
      "       3.90990055e-04, 5.15183667e-04, 5.54509519e-04, 3.87725944e-04,\n",
      "       4.19087039e-04, 3.78943223e-04, 3.19828978e-04, 2.26863762e-04,\n",
      "       2.39723449e-04, 3.01551569e-04, 5.32361271e-04, 3.36279045e-04,\n",
      "       1.14715844e-03, 2.12906022e-03, 6.23265328e-03, 4.90481034e-03,\n",
      "       5.13373828e-03, 3.55900009e-03, 4.96660732e-03, 1.30310524e-02,\n",
      "       4.84805228e-03, 2.18396913e-03, 1.26473024e-03, 2.79648899e-04,\n",
      "       1.32073968e-04, 9.68851746e-05, 9.27100336e-05, 1.30984714e-04,\n",
      "       6.72675887e-05, 4.35845250e-05, 2.16316166e-05, 2.14452357e-05,\n",
      "       1.51277782e-05, 1.94062977e-05, 1.81746564e-05, 1.91577801e-05,\n",
      "       3.84737505e-05, 3.22872766e-05, 2.95414811e-05, 6.31760995e-05,\n",
      "       6.58198187e-05, 6.54221440e-05, 1.02761340e-04, 8.72774981e-05,\n",
      "       8.37659900e-05, 9.05396373e-05, 7.26080543e-05, 1.42984733e-04,\n",
      "       2.60948349e-04, 8.63700698e-05, 2.38376997e-05, 5.24700263e-05,\n",
      "       1.00757621e-04, 3.55752818e-05, 2.10142171e-05, 1.43185525e-05,\n",
      "       8.19343131e-06, 1.07099322e-05, 8.52744233e-06, 7.45983198e-06,\n",
      "       7.34610558e-06, 7.36331049e-06, 6.46018498e-06, 5.07796130e-06,\n",
      "       3.62625860e-06, 2.23874895e-06, 2.98417535e-06, 2.97204497e-06,\n",
      "       2.45940578e-06, 1.99895339e-06, 2.64364985e-06, 4.20190372e-06,\n",
      "       6.38957499e-06, 1.41629307e-05, 1.48811796e-05, 2.16554763e-05,\n",
      "       1.46748025e-05, 1.37252655e-05, 3.30307375e-05, 1.16454612e-05,\n",
      "       4.19026719e-06, 5.50492859e-06, 6.38761321e-06, 9.19242848e-06,\n",
      "       1.99343231e-05, 2.59017215e-05, 3.64241350e-05, 1.83203756e-05,\n",
      "       1.36988374e-05, 9.83884456e-06, 1.42414192e-05, 2.38804751e-05,\n",
      "       3.68023757e-05, 1.58980096e-04, 1.30182932e-04, 1.37721872e-04,\n",
      "       1.20774879e-04, 7.63165081e-05, 5.13574574e-04, 1.03163917e-03,\n",
      "       1.46353180e-02, 6.20693266e-02, 2.80526653e-02, 1.46874055e-01,\n",
      "       3.40234876e-01, 4.84139502e-01, 3.38055938e-01, 4.86794673e-03,\n",
      "       2.26486195e-03, 2.67455296e-04, 1.03332139e-04, 1.97239315e-05,\n",
      "       8.66883511e-06, 5.49877859e-06, 5.71722376e-06, 4.84106522e-06,\n",
      "       4.84779684e-06, 3.70064777e-06, 2.45212209e-06, 3.05972708e-06,\n",
      "       3.64768653e-06, 4.66024130e-06, 9.29767248e-06, 1.20105988e-05,\n",
      "       1.59195315e-05, 1.51121467e-05, 2.52827158e-05, 3.11918557e-05,\n",
      "       2.65291201e-05, 2.49431960e-05, 1.87653277e-05, 1.14699269e-05,\n",
      "       7.81678227e-06, 9.76305182e-06, 1.22451602e-05, 1.27229314e-05,\n",
      "       1.01061378e-05, 1.02056829e-05, 2.60794332e-05, 3.77202778e-05,\n",
      "       8.13562438e-05, 7.32504413e-05, 5.87405812e-05, 1.28787477e-04,\n",
      "       4.67034988e-04, 1.75151546e-02, 6.44414648e-02, 3.04713007e-02,\n",
      "       3.22167501e-02, 2.03276016e-02, 3.39485630e-02, 8.37364048e-03,\n",
      "       1.26077805e-03, 4.84747905e-03, 1.67942345e-02, 3.58609892e-02,\n",
      "       4.33194637e-03, 1.39773218e-03, 1.09054428e-03, 2.01513898e-03,\n",
      "       4.29489679e-04, 3.93404189e-04, 2.54688144e-04, 2.11557111e-04,\n",
      "       2.18453162e-04, 2.95622100e-04, 2.76683393e-04, 2.56236934e-04,\n",
      "       1.49744999e-04, 1.61826843e-04, 2.83785135e-04, 4.73204360e-04,\n",
      "       2.74676393e-04, 1.26949788e-04, 6.61060840e-05, 2.16853994e-04,\n",
      "       3.80220037e-04, 7.42673757e-04, 5.84274181e-04, 3.91806447e-04,\n",
      "       3.48046015e-04, 5.82531269e-04, 5.17953362e-04, 9.44883272e-04,\n",
      "       1.66236772e-03, 1.73824187e-03, 2.05283891e-03, 5.44107566e-03,\n",
      "       7.74437468e-03, 5.48376655e-03, 1.99574372e-03, 1.94334402e-03,\n",
      "       4.86030383e-03, 3.12378234e-03, 7.47500628e-04, 6.52338553e-04,\n",
      "       1.33160735e-03, 1.77366252e-04, 1.38838674e-04, 1.88673846e-04,\n",
      "       2.34071995e-04, 6.08427217e-04, 1.01976458e-03, 6.61728322e-04,\n",
      "       3.20502353e-04, 1.24706028e-04, 4.84003540e-05, 4.34516805e-05,\n",
      "       4.27989507e-05, 4.48271676e-05, 5.96052741e-05, 2.28537865e-05,\n",
      "       3.10281503e-05, 5.11555445e-05, 6.71163725e-05, 3.01017753e-05,\n",
      "       4.03874146e-05, 5.51642406e-05, 2.12088285e-04, 1.91352126e-04,\n",
      "       1.51486747e-04, 9.51673137e-05, 7.38534945e-05, 5.83586771e-05,\n",
      "       6.81458623e-05, 9.31091636e-05, 1.72196131e-04, 1.54369714e-04,\n",
      "       9.68056702e-05, 8.68091884e-05, 8.29733035e-05, 6.65296757e-05,\n",
      "       8.19431589e-05, 6.87647116e-05], dtype=float32)), ('noEnergy', 68.26, 68.92, None, None, None), ('male', 68.92, 71.60000000000001, 0.00010131125, array([68.92, 68.94, 68.96, 68.98, 69.  , 69.02, 69.04, 69.06, 69.08,\n",
      "       69.1 , 69.12, 69.14, 69.16, 69.18, 69.2 , 69.22, 69.24, 69.26,\n",
      "       69.28, 69.3 , 69.32, 69.34, 69.36, 69.38, 69.4 , 69.42, 69.44,\n",
      "       69.46, 69.48, 69.5 , 69.52, 69.54, 69.56, 69.58, 69.6 , 69.62,\n",
      "       69.64, 69.66, 69.68, 69.7 , 69.72, 69.74, 69.76, 69.78, 69.8 ,\n",
      "       69.82, 69.84, 69.86, 69.88, 69.9 , 69.92, 69.94, 69.96, 69.98,\n",
      "       70.  , 70.02, 70.04, 70.06, 70.08, 70.1 , 70.12, 70.14, 70.16,\n",
      "       70.18, 70.2 , 70.22, 70.24, 70.26, 70.28, 70.3 , 70.32, 70.34,\n",
      "       70.36, 70.38, 70.4 , 70.42, 70.44, 70.46, 70.48, 70.5 , 70.52,\n",
      "       70.54, 70.56, 70.58, 70.6 , 70.62, 70.64, 70.66, 70.68, 70.7 ,\n",
      "       70.72, 70.74, 70.76, 70.78, 70.8 , 70.82, 70.84, 70.86, 70.88,\n",
      "       70.9 , 70.92, 70.94, 70.96, 70.98, 71.  , 71.02, 71.04, 71.06,\n",
      "       71.08, 71.1 , 71.12, 71.14, 71.16, 71.18, 71.2 , 71.22, 71.24,\n",
      "       71.26, 71.28, 71.3 , 71.32, 71.34, 71.36, 71.38, 71.4 , 71.42,\n",
      "       71.44, 71.46, 71.48, 71.5 , 71.52, 71.54, 71.56, 71.58]), array([1.1566562e-04, 9.3628158e-05, 4.8566617e-05, 3.3944863e-05,\n",
      "       2.1743095e-05, 1.6889911e-05, 1.4845997e-05, 9.4890274e-06,\n",
      "       6.6255216e-06, 5.9758254e-06, 6.3790844e-06, 3.8523494e-06,\n",
      "       1.2479068e-06, 5.5807959e-07, 1.3589217e-06, 1.8377227e-06,\n",
      "       2.1012338e-06, 4.6960890e-06, 6.8616814e-06, 1.0766995e-05,\n",
      "       1.6309003e-05, 2.7089032e-05, 2.0777403e-05, 5.6725107e-06,\n",
      "       2.5249760e-06, 6.7619266e-07, 2.9208277e-07, 2.9976562e-07,\n",
      "       4.6043002e-07, 9.3241175e-07, 7.6171312e-07, 8.0315021e-07,\n",
      "       4.8932753e-07, 2.7686775e-07, 2.0563745e-07, 8.7860877e-07,\n",
      "       1.5510316e-06, 3.3327083e-06, 4.7084122e-06, 4.9286673e-06,\n",
      "       2.1208466e-06, 1.7920559e-06, 5.7275383e-06, 6.4061769e-06,\n",
      "       6.0855450e-06, 4.2803599e-06, 1.2213310e-06, 1.3406765e-06,\n",
      "       2.3961461e-06, 1.4531656e-06, 2.0372891e-06, 2.0225148e-06,\n",
      "       6.9040578e-07, 4.6406476e-06, 1.3050219e-05, 1.4814643e-05,\n",
      "       1.9032321e-06, 9.3967276e-07, 2.9275086e-06, 2.5092288e-06,\n",
      "       9.1018552e-07, 7.8994481e-07, 7.9250810e-07, 2.5271875e-06,\n",
      "       4.8780021e-07, 5.4359120e-08, 1.9048246e-08, 1.6811878e-08,\n",
      "       1.7819922e-08, 7.5534963e-08, 5.0493263e-08, 4.6173248e-08,\n",
      "       6.9052812e-09, 6.6165073e-09, 6.3644894e-09, 2.4921999e-08,\n",
      "       1.9136152e-08, 3.6438092e-08, 2.4319928e-07, 4.4737965e-07,\n",
      "       1.0537523e-06, 1.5002579e-06, 2.7298918e-06, 9.1103573e-07,\n",
      "       3.0342958e-06, 5.9893014e-06, 5.1791176e-06, 4.6530999e-06,\n",
      "       2.2528444e-05, 2.8296181e-05, 6.4119777e-05, 5.0276165e-05,\n",
      "       6.9015005e-05, 8.5869055e-05, 2.3619751e-04, 4.4390367e-04,\n",
      "       5.5588351e-04, 1.0247959e-03, 8.1191625e-04, 9.8384533e-04,\n",
      "       6.9163216e-04, 6.8096991e-04, 7.6915632e-04, 9.0062729e-04,\n",
      "       1.2379333e-03, 1.3240509e-03, 8.6654566e-04, 4.2861275e-04,\n",
      "       1.8146826e-04, 1.6334598e-04, 8.0309175e-05, 6.9013884e-05,\n",
      "       3.3541604e-05, 2.0683416e-05, 1.9008752e-05, 1.4160135e-05,\n",
      "       7.7606146e-06, 2.0154110e-05, 5.9761966e-05, 8.4811203e-05,\n",
      "       5.2755051e-05, 6.5118955e-05, 8.5608648e-05, 6.6329820e-05,\n",
      "       2.8927296e-05, 2.2298753e-05, 3.8411577e-05, 4.2554031e-05,\n",
      "       5.3842305e-05, 5.7689380e-05, 7.3699288e-05, 8.2204329e-05,\n",
      "       1.0116910e-04, 1.6491252e-04], dtype=float32)), ('noEnergy', 71.60000000000001, 72.0, None, None, None), ('male', 72.0, 73.82000000000001, 0.00040881918, array([72.  , 72.02, 72.04, 72.06, 72.08, 72.1 , 72.12, 72.14, 72.16,\n",
      "       72.18, 72.2 , 72.22, 72.24, 72.26, 72.28, 72.3 , 72.32, 72.34,\n",
      "       72.36, 72.38, 72.4 , 72.42, 72.44, 72.46, 72.48, 72.5 , 72.52,\n",
      "       72.54, 72.56, 72.58, 72.6 , 72.62, 72.64, 72.66, 72.68, 72.7 ,\n",
      "       72.72, 72.74, 72.76, 72.78, 72.8 , 72.82, 72.84, 72.86, 72.88,\n",
      "       72.9 , 72.92, 72.94, 72.96, 72.98, 73.  , 73.02, 73.04, 73.06,\n",
      "       73.08, 73.1 , 73.12, 73.14, 73.16, 73.18, 73.2 , 73.22, 73.24,\n",
      "       73.26, 73.28, 73.3 , 73.32, 73.34, 73.36, 73.38, 73.4 , 73.42,\n",
      "       73.44, 73.46, 73.48, 73.5 , 73.52, 73.54, 73.56, 73.58, 73.6 ,\n",
      "       73.62, 73.64, 73.66, 73.68, 73.7 , 73.72, 73.74, 73.76, 73.78,\n",
      "       73.8 ]), array([6.7066139e-06, 1.1453552e-05, 1.3519787e-05, 8.6568225e-06,\n",
      "       6.8943077e-06, 6.7568608e-06, 1.4760306e-05, 1.0456562e-05,\n",
      "       9.4957086e-06, 4.2088741e-06, 4.0875443e-06, 4.3918135e-06,\n",
      "       3.4995930e-06, 2.6919115e-06, 1.4818097e-06, 1.9515348e-06,\n",
      "       2.6816624e-06, 3.8432199e-06, 2.1151804e-05, 1.9961168e-05,\n",
      "       3.2754328e-05, 4.1482457e-05, 3.2174899e-05, 2.0287725e-05,\n",
      "       3.5104109e-05, 3.0951131e-05, 2.1300722e-05, 1.1205875e-05,\n",
      "       8.1725630e-06, 1.0095466e-05, 1.6231421e-05, 1.4929310e-05,\n",
      "       2.0605887e-05, 1.6290986e-05, 9.3021508e-06, 9.5624127e-06,\n",
      "       2.7458816e-06, 1.8419619e-06, 1.2383833e-06, 2.1526823e-06,\n",
      "       3.1141801e-06, 4.0360565e-06, 4.2828956e-06, 8.2904462e-06,\n",
      "       5.1804764e-06, 6.2114145e-06, 6.1785604e-06, 5.0320969e-06,\n",
      "       1.0572145e-05, 2.8735683e-05, 2.1825193e-05, 2.2924251e-05,\n",
      "       1.5553744e-05, 4.1430783e-05, 7.6486984e-05, 8.1093051e-05,\n",
      "       5.2256459e-05, 6.3936721e-05, 2.3921364e-05, 3.1079202e-05,\n",
      "       9.9805338e-06, 1.8703669e-05, 1.0142955e-05, 4.2240217e-06,\n",
      "       7.0219758e-06, 2.0242405e-05, 1.9425515e-05, 6.0644566e-06,\n",
      "       1.8961249e-06, 1.9023430e-06, 2.7544031e-06, 9.0808993e-07,\n",
      "       1.3475110e-06, 2.7220119e-06, 1.0171695e-05, 1.3003557e-05,\n",
      "       1.4582811e-05, 3.1172971e-05, 3.5873476e-05, 8.4642423e-05,\n",
      "       1.9008627e-04, 2.4582774e-04, 8.0777984e-04, 1.3923874e-03,\n",
      "       1.3572987e-03, 1.2428855e-03, 8.7797007e-04, 8.8072830e-04,\n",
      "       7.8755561e-03, 9.0203220e-03, 1.2005699e-02], dtype=float32)), ('noEnergy', 73.82000000000001, 74.5, None, None, None)]\n"
     ]
    }
   ],
   "source": [
    "# the result is a list of tuples\n",
    "# each tuple contains:\n",
    "# * label in 'male', 'female', 'music', 'noEnergy'\n",
    "# * start time of the segment\n",
    "# * end time of the segment\n",
    "print(segmentation)"
   ]
  },
  {
   "cell_type": "code",
   "execution_count": 6,
   "metadata": {},
   "outputs": [
    {
     "name": "stdout",
     "output_type": "stream",
     "text": [
      "0/56 /home/ddoukhan/_Corpus_TransCis/Voix Cis/Hommes Cis/MCis4 38/MCis4La bise.wav MCis4La bise\n"
     ]
    },
    {
     "name": "stderr",
     "output_type": "stream",
     "text": [
      "/home/ddoukhan/gitrepos/inaSpeechSegmenterAlbert/env/lib/python3.8/site-packages/pyannote.algorithms-0.8-py3.8.egg/pyannote/algorithms/utils/viterbi.py:86: FutureWarning: arrays to stack must be passed as a \"sequence\" type such as list or tuple. Support for non-sequence iterables such as generators is deprecated as of NumPy 1.16 and will raise an error in the future.\n",
      "  return np.vstack(\n",
      "/home/ddoukhan/gitrepos/inaSpeechSegmenterAlbert/env/lib/python3.8/site-packages/pyannote.algorithms-0.8-py3.8.egg/pyannote/algorithms/utils/viterbi.py:95: FutureWarning: arrays to stack must be passed as a \"sequence\" type such as list or tuple. Support for non-sequence iterables such as generators is deprecated as of NumPy 1.16 and will raise an error in the future.\n",
      "  return np.vstack(\n"
     ]
    },
    {
     "name": "stdout",
     "output_type": "stream",
     "text": [
      "1/56 /home/ddoukhan/_Corpus_TransCis/Voix Cis/Hommes Cis/MCis4 38/MCis4.wav MCis4\n"
     ]
    },
    {
     "name": "stderr",
     "output_type": "stream",
     "text": [
      "/home/ddoukhan/gitrepos/inaSpeechSegmenterAlbert/env/lib/python3.8/site-packages/pyannote.algorithms-0.8-py3.8.egg/pyannote/algorithms/utils/viterbi.py:86: FutureWarning: arrays to stack must be passed as a \"sequence\" type such as list or tuple. Support for non-sequence iterables such as generators is deprecated as of NumPy 1.16 and will raise an error in the future.\n",
      "  return np.vstack(\n",
      "/home/ddoukhan/gitrepos/inaSpeechSegmenterAlbert/env/lib/python3.8/site-packages/pyannote.algorithms-0.8-py3.8.egg/pyannote/algorithms/utils/viterbi.py:95: FutureWarning: arrays to stack must be passed as a \"sequence\" type such as list or tuple. Support for non-sequence iterables such as generators is deprecated as of NumPy 1.16 and will raise an error in the future.\n",
      "  return np.vstack(\n"
     ]
    },
    {
     "name": "stdout",
     "output_type": "stream",
     "text": [
      "2/56 /home/ddoukhan/_Corpus_TransCis/Voix Cis/Hommes Cis/MCis3 30/MCis3.wav MCis3\n"
     ]
    },
    {
     "name": "stderr",
     "output_type": "stream",
     "text": [
      "/home/ddoukhan/gitrepos/inaSpeechSegmenterAlbert/env/lib/python3.8/site-packages/pyannote.algorithms-0.8-py3.8.egg/pyannote/algorithms/utils/viterbi.py:86: FutureWarning: arrays to stack must be passed as a \"sequence\" type such as list or tuple. Support for non-sequence iterables such as generators is deprecated as of NumPy 1.16 and will raise an error in the future.\n",
      "  return np.vstack(\n",
      "/home/ddoukhan/gitrepos/inaSpeechSegmenterAlbert/env/lib/python3.8/site-packages/pyannote.algorithms-0.8-py3.8.egg/pyannote/algorithms/utils/viterbi.py:95: FutureWarning: arrays to stack must be passed as a \"sequence\" type such as list or tuple. Support for non-sequence iterables such as generators is deprecated as of NumPy 1.16 and will raise an error in the future.\n",
      "  return np.vstack(\n"
     ]
    },
    {
     "name": "stdout",
     "output_type": "stream",
     "text": [
      "3/56 /home/ddoukhan/_Corpus_TransCis/Voix Cis/Hommes Cis/MCis3 30/MCis3La bise.wav MCis3La bise\n"
     ]
    },
    {
     "name": "stderr",
     "output_type": "stream",
     "text": [
      "/home/ddoukhan/gitrepos/inaSpeechSegmenterAlbert/env/lib/python3.8/site-packages/pyannote.algorithms-0.8-py3.8.egg/pyannote/algorithms/utils/viterbi.py:86: FutureWarning: arrays to stack must be passed as a \"sequence\" type such as list or tuple. Support for non-sequence iterables such as generators is deprecated as of NumPy 1.16 and will raise an error in the future.\n",
      "  return np.vstack(\n",
      "/home/ddoukhan/gitrepos/inaSpeechSegmenterAlbert/env/lib/python3.8/site-packages/pyannote.algorithms-0.8-py3.8.egg/pyannote/algorithms/utils/viterbi.py:95: FutureWarning: arrays to stack must be passed as a \"sequence\" type such as list or tuple. Support for non-sequence iterables such as generators is deprecated as of NumPy 1.16 and will raise an error in the future.\n",
      "  return np.vstack(\n"
     ]
    },
    {
     "name": "stdout",
     "output_type": "stream",
     "text": [
      "4/56 /home/ddoukhan/_Corpus_TransCis/Voix Cis/Hommes Cis/MCis5 24/MCis5.wav MCis5\n"
     ]
    },
    {
     "name": "stderr",
     "output_type": "stream",
     "text": [
      "/home/ddoukhan/gitrepos/inaSpeechSegmenterAlbert/env/lib/python3.8/site-packages/pyannote.algorithms-0.8-py3.8.egg/pyannote/algorithms/utils/viterbi.py:86: FutureWarning: arrays to stack must be passed as a \"sequence\" type such as list or tuple. Support for non-sequence iterables such as generators is deprecated as of NumPy 1.16 and will raise an error in the future.\n",
      "  return np.vstack(\n",
      "/home/ddoukhan/gitrepos/inaSpeechSegmenterAlbert/env/lib/python3.8/site-packages/pyannote.algorithms-0.8-py3.8.egg/pyannote/algorithms/utils/viterbi.py:95: FutureWarning: arrays to stack must be passed as a \"sequence\" type such as list or tuple. Support for non-sequence iterables such as generators is deprecated as of NumPy 1.16 and will raise an error in the future.\n",
      "  return np.vstack(\n"
     ]
    },
    {
     "name": "stdout",
     "output_type": "stream",
     "text": [
      "5/56 /home/ddoukhan/_Corpus_TransCis/Voix Cis/Hommes Cis/MCis5 24/MCis5La bise.wav MCis5La bise\n"
     ]
    },
    {
     "name": "stderr",
     "output_type": "stream",
     "text": [
      "/home/ddoukhan/gitrepos/inaSpeechSegmenterAlbert/env/lib/python3.8/site-packages/pyannote.algorithms-0.8-py3.8.egg/pyannote/algorithms/utils/viterbi.py:86: FutureWarning: arrays to stack must be passed as a \"sequence\" type such as list or tuple. Support for non-sequence iterables such as generators is deprecated as of NumPy 1.16 and will raise an error in the future.\n",
      "  return np.vstack(\n",
      "/home/ddoukhan/gitrepos/inaSpeechSegmenterAlbert/env/lib/python3.8/site-packages/pyannote.algorithms-0.8-py3.8.egg/pyannote/algorithms/utils/viterbi.py:95: FutureWarning: arrays to stack must be passed as a \"sequence\" type such as list or tuple. Support for non-sequence iterables such as generators is deprecated as of NumPy 1.16 and will raise an error in the future.\n",
      "  return np.vstack(\n"
     ]
    },
    {
     "name": "stdout",
     "output_type": "stream",
     "text": [
      "6/56 /home/ddoukhan/_Corpus_TransCis/Voix Cis/Femmes Cis/Fcis1 37/Fcis1.wav Fcis1\n"
     ]
    },
    {
     "name": "stderr",
     "output_type": "stream",
     "text": [
      "/home/ddoukhan/gitrepos/inaSpeechSegmenterAlbert/env/lib/python3.8/site-packages/pyannote.algorithms-0.8-py3.8.egg/pyannote/algorithms/utils/viterbi.py:86: FutureWarning: arrays to stack must be passed as a \"sequence\" type such as list or tuple. Support for non-sequence iterables such as generators is deprecated as of NumPy 1.16 and will raise an error in the future.\n",
      "  return np.vstack(\n",
      "/home/ddoukhan/gitrepos/inaSpeechSegmenterAlbert/env/lib/python3.8/site-packages/pyannote.algorithms-0.8-py3.8.egg/pyannote/algorithms/utils/viterbi.py:95: FutureWarning: arrays to stack must be passed as a \"sequence\" type such as list or tuple. Support for non-sequence iterables such as generators is deprecated as of NumPy 1.16 and will raise an error in the future.\n",
      "  return np.vstack(\n"
     ]
    },
    {
     "name": "stdout",
     "output_type": "stream",
     "text": [
      "7/56 /home/ddoukhan/_Corpus_TransCis/Voix Cis/Femmes Cis/Fcis1 37/Fcis2_la_bise.wav Fcis2_la_bise\n"
     ]
    },
    {
     "name": "stderr",
     "output_type": "stream",
     "text": [
      "/home/ddoukhan/gitrepos/inaSpeechSegmenterAlbert/env/lib/python3.8/site-packages/pyannote.algorithms-0.8-py3.8.egg/pyannote/algorithms/utils/viterbi.py:86: FutureWarning: arrays to stack must be passed as a \"sequence\" type such as list or tuple. Support for non-sequence iterables such as generators is deprecated as of NumPy 1.16 and will raise an error in the future.\n",
      "  return np.vstack(\n",
      "/home/ddoukhan/gitrepos/inaSpeechSegmenterAlbert/env/lib/python3.8/site-packages/pyannote.algorithms-0.8-py3.8.egg/pyannote/algorithms/utils/viterbi.py:95: FutureWarning: arrays to stack must be passed as a \"sequence\" type such as list or tuple. Support for non-sequence iterables such as generators is deprecated as of NumPy 1.16 and will raise an error in the future.\n",
      "  return np.vstack(\n"
     ]
    },
    {
     "name": "stdout",
     "output_type": "stream",
     "text": [
      "8/56 /home/ddoukhan/_Corpus_TransCis/Voix Cis/Femmes Cis/Fcis2 60/Fcis2.wav Fcis2\n"
     ]
    },
    {
     "name": "stderr",
     "output_type": "stream",
     "text": [
      "/home/ddoukhan/gitrepos/inaSpeechSegmenterAlbert/env/lib/python3.8/site-packages/pyannote.algorithms-0.8-py3.8.egg/pyannote/algorithms/utils/viterbi.py:86: FutureWarning: arrays to stack must be passed as a \"sequence\" type such as list or tuple. Support for non-sequence iterables such as generators is deprecated as of NumPy 1.16 and will raise an error in the future.\n",
      "  return np.vstack(\n",
      "/home/ddoukhan/gitrepos/inaSpeechSegmenterAlbert/env/lib/python3.8/site-packages/pyannote.algorithms-0.8-py3.8.egg/pyannote/algorithms/utils/viterbi.py:95: FutureWarning: arrays to stack must be passed as a \"sequence\" type such as list or tuple. Support for non-sequence iterables such as generators is deprecated as of NumPy 1.16 and will raise an error in the future.\n",
      "  return np.vstack(\n"
     ]
    },
    {
     "name": "stdout",
     "output_type": "stream",
     "text": [
      "9/56 /home/ddoukhan/_Corpus_TransCis/Voix Cis/Femmes Cis/Fcis2 60/Fcis2la_bise.wav Fcis2la_bise\n"
     ]
    },
    {
     "name": "stderr",
     "output_type": "stream",
     "text": [
      "/home/ddoukhan/gitrepos/inaSpeechSegmenterAlbert/env/lib/python3.8/site-packages/pyannote.algorithms-0.8-py3.8.egg/pyannote/algorithms/utils/viterbi.py:86: FutureWarning: arrays to stack must be passed as a \"sequence\" type such as list or tuple. Support for non-sequence iterables such as generators is deprecated as of NumPy 1.16 and will raise an error in the future.\n",
      "  return np.vstack(\n",
      "/home/ddoukhan/gitrepos/inaSpeechSegmenterAlbert/env/lib/python3.8/site-packages/pyannote.algorithms-0.8-py3.8.egg/pyannote/algorithms/utils/viterbi.py:95: FutureWarning: arrays to stack must be passed as a \"sequence\" type such as list or tuple. Support for non-sequence iterables such as generators is deprecated as of NumPy 1.16 and will raise an error in the future.\n",
      "  return np.vstack(\n"
     ]
    },
    {
     "name": "stdout",
     "output_type": "stream",
     "text": [
      "10/56 /home/ddoukhan/_Corpus_TransCis/Voix Cis/Femmes Cis/Fcis3 28/Fcis3.wav Fcis3\n"
     ]
    },
    {
     "name": "stderr",
     "output_type": "stream",
     "text": [
      "/home/ddoukhan/gitrepos/inaSpeechSegmenterAlbert/env/lib/python3.8/site-packages/pyannote.algorithms-0.8-py3.8.egg/pyannote/algorithms/utils/viterbi.py:86: FutureWarning: arrays to stack must be passed as a \"sequence\" type such as list or tuple. Support for non-sequence iterables such as generators is deprecated as of NumPy 1.16 and will raise an error in the future.\n",
      "  return np.vstack(\n",
      "/home/ddoukhan/gitrepos/inaSpeechSegmenterAlbert/env/lib/python3.8/site-packages/pyannote.algorithms-0.8-py3.8.egg/pyannote/algorithms/utils/viterbi.py:95: FutureWarning: arrays to stack must be passed as a \"sequence\" type such as list or tuple. Support for non-sequence iterables such as generators is deprecated as of NumPy 1.16 and will raise an error in the future.\n",
      "  return np.vstack(\n"
     ]
    },
    {
     "name": "stdout",
     "output_type": "stream",
     "text": [
      "11/56 /home/ddoukhan/_Corpus_TransCis/Voix Cis/Femmes Cis/Fcis3 28/fcis3la_bise.wav fcis3la_bise\n"
     ]
    },
    {
     "name": "stderr",
     "output_type": "stream",
     "text": [
      "/home/ddoukhan/gitrepos/inaSpeechSegmenterAlbert/env/lib/python3.8/site-packages/pyannote.algorithms-0.8-py3.8.egg/pyannote/algorithms/utils/viterbi.py:86: FutureWarning: arrays to stack must be passed as a \"sequence\" type such as list or tuple. Support for non-sequence iterables such as generators is deprecated as of NumPy 1.16 and will raise an error in the future.\n",
      "  return np.vstack(\n",
      "/home/ddoukhan/gitrepos/inaSpeechSegmenterAlbert/env/lib/python3.8/site-packages/pyannote.algorithms-0.8-py3.8.egg/pyannote/algorithms/utils/viterbi.py:95: FutureWarning: arrays to stack must be passed as a \"sequence\" type such as list or tuple. Support for non-sequence iterables such as generators is deprecated as of NumPy 1.16 and will raise an error in the future.\n",
      "  return np.vstack(\n"
     ]
    },
    {
     "name": "stdout",
     "output_type": "stream",
     "text": [
      "12/56 /home/ddoukhan/_Corpus_TransCis/VoixTrans/FtM/Ftm1 29/Ftm1.wav Ftm1\n"
     ]
    },
    {
     "name": "stderr",
     "output_type": "stream",
     "text": [
      "/home/ddoukhan/gitrepos/inaSpeechSegmenterAlbert/env/lib/python3.8/site-packages/pyannote.algorithms-0.8-py3.8.egg/pyannote/algorithms/utils/viterbi.py:86: FutureWarning: arrays to stack must be passed as a \"sequence\" type such as list or tuple. Support for non-sequence iterables such as generators is deprecated as of NumPy 1.16 and will raise an error in the future.\n",
      "  return np.vstack(\n",
      "/home/ddoukhan/gitrepos/inaSpeechSegmenterAlbert/env/lib/python3.8/site-packages/pyannote.algorithms-0.8-py3.8.egg/pyannote/algorithms/utils/viterbi.py:95: FutureWarning: arrays to stack must be passed as a \"sequence\" type such as list or tuple. Support for non-sequence iterables such as generators is deprecated as of NumPy 1.16 and will raise an error in the future.\n",
      "  return np.vstack(\n"
     ]
    },
    {
     "name": "stdout",
     "output_type": "stream",
     "text": [
      "13/56 /home/ddoukhan/_Corpus_TransCis/VoixTrans/FtM/Ftm1 29/Ftm1la_bise.wav Ftm1la_bise\n"
     ]
    },
    {
     "name": "stderr",
     "output_type": "stream",
     "text": [
      "/home/ddoukhan/gitrepos/inaSpeechSegmenterAlbert/env/lib/python3.8/site-packages/pyannote.algorithms-0.8-py3.8.egg/pyannote/algorithms/utils/viterbi.py:86: FutureWarning: arrays to stack must be passed as a \"sequence\" type such as list or tuple. Support for non-sequence iterables such as generators is deprecated as of NumPy 1.16 and will raise an error in the future.\n",
      "  return np.vstack(\n",
      "/home/ddoukhan/gitrepos/inaSpeechSegmenterAlbert/env/lib/python3.8/site-packages/pyannote.algorithms-0.8-py3.8.egg/pyannote/algorithms/utils/viterbi.py:95: FutureWarning: arrays to stack must be passed as a \"sequence\" type such as list or tuple. Support for non-sequence iterables such as generators is deprecated as of NumPy 1.16 and will raise an error in the future.\n",
      "  return np.vstack(\n"
     ]
    },
    {
     "name": "stdout",
     "output_type": "stream",
     "text": [
      "14/56 /home/ddoukhan/_Corpus_TransCis/VoixTrans/MtF/Mtf14 54/Mtf14vn.wav Mtf14vn\n"
     ]
    },
    {
     "name": "stderr",
     "output_type": "stream",
     "text": [
      "/home/ddoukhan/gitrepos/inaSpeechSegmenterAlbert/env/lib/python3.8/site-packages/pyannote.algorithms-0.8-py3.8.egg/pyannote/algorithms/utils/viterbi.py:86: FutureWarning: arrays to stack must be passed as a \"sequence\" type such as list or tuple. Support for non-sequence iterables such as generators is deprecated as of NumPy 1.16 and will raise an error in the future.\n",
      "  return np.vstack(\n",
      "/home/ddoukhan/gitrepos/inaSpeechSegmenterAlbert/env/lib/python3.8/site-packages/pyannote.algorithms-0.8-py3.8.egg/pyannote/algorithms/utils/viterbi.py:95: FutureWarning: arrays to stack must be passed as a \"sequence\" type such as list or tuple. Support for non-sequence iterables such as generators is deprecated as of NumPy 1.16 and will raise an error in the future.\n",
      "  return np.vstack(\n"
     ]
    },
    {
     "name": "stdout",
     "output_type": "stream",
     "text": [
      "15/56 /home/ddoukhan/_Corpus_TransCis/VoixTrans/MtF/Mtf14 54/MtF14labise.wav MtF14labise\n"
     ]
    },
    {
     "name": "stderr",
     "output_type": "stream",
     "text": [
      "/home/ddoukhan/gitrepos/inaSpeechSegmenterAlbert/env/lib/python3.8/site-packages/pyannote.algorithms-0.8-py3.8.egg/pyannote/algorithms/utils/viterbi.py:86: FutureWarning: arrays to stack must be passed as a \"sequence\" type such as list or tuple. Support for non-sequence iterables such as generators is deprecated as of NumPy 1.16 and will raise an error in the future.\n",
      "  return np.vstack(\n",
      "/home/ddoukhan/gitrepos/inaSpeechSegmenterAlbert/env/lib/python3.8/site-packages/pyannote.algorithms-0.8-py3.8.egg/pyannote/algorithms/utils/viterbi.py:95: FutureWarning: arrays to stack must be passed as a \"sequence\" type such as list or tuple. Support for non-sequence iterables such as generators is deprecated as of NumPy 1.16 and will raise an error in the future.\n",
      "  return np.vstack(\n"
     ]
    },
    {
     "name": "stdout",
     "output_type": "stream",
     "text": [
      "16/56 /home/ddoukhan/_Corpus_TransCis/VoixTrans/MtF/Mtf9 29/Mtf9vF23032021.wav Mtf9vF23032021\n"
     ]
    },
    {
     "name": "stderr",
     "output_type": "stream",
     "text": [
      "/home/ddoukhan/gitrepos/inaSpeechSegmenterAlbert/env/lib/python3.8/site-packages/pyannote.algorithms-0.8-py3.8.egg/pyannote/algorithms/utils/viterbi.py:86: FutureWarning: arrays to stack must be passed as a \"sequence\" type such as list or tuple. Support for non-sequence iterables such as generators is deprecated as of NumPy 1.16 and will raise an error in the future.\n",
      "  return np.vstack(\n",
      "/home/ddoukhan/gitrepos/inaSpeechSegmenterAlbert/env/lib/python3.8/site-packages/pyannote.algorithms-0.8-py3.8.egg/pyannote/algorithms/utils/viterbi.py:95: FutureWarning: arrays to stack must be passed as a \"sequence\" type such as list or tuple. Support for non-sequence iterables such as generators is deprecated as of NumPy 1.16 and will raise an error in the future.\n",
      "  return np.vstack(\n"
     ]
    },
    {
     "name": "stdout",
     "output_type": "stream",
     "text": [
      "17/56 /home/ddoukhan/_Corpus_TransCis/VoixTrans/MtF/Mtf9 29/Mtf9la_bise__23032021.wav Mtf9la_bise__23032021\n"
     ]
    },
    {
     "name": "stderr",
     "output_type": "stream",
     "text": [
      "/home/ddoukhan/gitrepos/inaSpeechSegmenterAlbert/env/lib/python3.8/site-packages/pyannote.algorithms-0.8-py3.8.egg/pyannote/algorithms/utils/viterbi.py:86: FutureWarning: arrays to stack must be passed as a \"sequence\" type such as list or tuple. Support for non-sequence iterables such as generators is deprecated as of NumPy 1.16 and will raise an error in the future.\n",
      "  return np.vstack(\n",
      "/home/ddoukhan/gitrepos/inaSpeechSegmenterAlbert/env/lib/python3.8/site-packages/pyannote.algorithms-0.8-py3.8.egg/pyannote/algorithms/utils/viterbi.py:95: FutureWarning: arrays to stack must be passed as a \"sequence\" type such as list or tuple. Support for non-sequence iterables such as generators is deprecated as of NumPy 1.16 and will raise an error in the future.\n",
      "  return np.vstack(\n"
     ]
    },
    {
     "name": "stdout",
     "output_type": "stream",
     "text": [
      "18/56 /home/ddoukhan/_Corpus_TransCis/VoixTrans/MtF/Mtf4 20/MtF4la bise.wav MtF4la bise\n"
     ]
    },
    {
     "name": "stderr",
     "output_type": "stream",
     "text": [
      "/home/ddoukhan/gitrepos/inaSpeechSegmenterAlbert/env/lib/python3.8/site-packages/pyannote.algorithms-0.8-py3.8.egg/pyannote/algorithms/utils/viterbi.py:86: FutureWarning: arrays to stack must be passed as a \"sequence\" type such as list or tuple. Support for non-sequence iterables such as generators is deprecated as of NumPy 1.16 and will raise an error in the future.\n",
      "  return np.vstack(\n",
      "/home/ddoukhan/gitrepos/inaSpeechSegmenterAlbert/env/lib/python3.8/site-packages/pyannote.algorithms-0.8-py3.8.egg/pyannote/algorithms/utils/viterbi.py:95: FutureWarning: arrays to stack must be passed as a \"sequence\" type such as list or tuple. Support for non-sequence iterables such as generators is deprecated as of NumPy 1.16 and will raise an error in the future.\n",
      "  return np.vstack(\n"
     ]
    },
    {
     "name": "stdout",
     "output_type": "stream",
     "text": [
      "19/56 /home/ddoukhan/_Corpus_TransCis/VoixTrans/MtF/Mtf4 20/MtF4vF.wav MtF4vF\n"
     ]
    },
    {
     "name": "stderr",
     "output_type": "stream",
     "text": [
      "/home/ddoukhan/gitrepos/inaSpeechSegmenterAlbert/env/lib/python3.8/site-packages/pyannote.algorithms-0.8-py3.8.egg/pyannote/algorithms/utils/viterbi.py:86: FutureWarning: arrays to stack must be passed as a \"sequence\" type such as list or tuple. Support for non-sequence iterables such as generators is deprecated as of NumPy 1.16 and will raise an error in the future.\n",
      "  return np.vstack(\n",
      "/home/ddoukhan/gitrepos/inaSpeechSegmenterAlbert/env/lib/python3.8/site-packages/pyannote.algorithms-0.8-py3.8.egg/pyannote/algorithms/utils/viterbi.py:95: FutureWarning: arrays to stack must be passed as a \"sequence\" type such as list or tuple. Support for non-sequence iterables such as generators is deprecated as of NumPy 1.16 and will raise an error in the future.\n",
      "  return np.vstack(\n"
     ]
    },
    {
     "name": "stdout",
     "output_type": "stream",
     "text": [
      "20/56 /home/ddoukhan/_Corpus_TransCis/VoixTrans/MtF/Mtf19 38/Mtf19_la_bise.wav Mtf19_la_bise\n"
     ]
    },
    {
     "name": "stderr",
     "output_type": "stream",
     "text": [
      "/home/ddoukhan/gitrepos/inaSpeechSegmenterAlbert/env/lib/python3.8/site-packages/pyannote.algorithms-0.8-py3.8.egg/pyannote/algorithms/utils/viterbi.py:86: FutureWarning: arrays to stack must be passed as a \"sequence\" type such as list or tuple. Support for non-sequence iterables such as generators is deprecated as of NumPy 1.16 and will raise an error in the future.\n",
      "  return np.vstack(\n",
      "/home/ddoukhan/gitrepos/inaSpeechSegmenterAlbert/env/lib/python3.8/site-packages/pyannote.algorithms-0.8-py3.8.egg/pyannote/algorithms/utils/viterbi.py:95: FutureWarning: arrays to stack must be passed as a \"sequence\" type such as list or tuple. Support for non-sequence iterables such as generators is deprecated as of NumPy 1.16 and will raise an error in the future.\n",
      "  return np.vstack(\n"
     ]
    },
    {
     "name": "stdout",
     "output_type": "stream",
     "text": [
      "21/56 /home/ddoukhan/_Corpus_TransCis/VoixTrans/MtF/Mtf19 38/Mtf19.wav Mtf19\n"
     ]
    },
    {
     "name": "stderr",
     "output_type": "stream",
     "text": [
      "/home/ddoukhan/gitrepos/inaSpeechSegmenterAlbert/env/lib/python3.8/site-packages/pyannote.algorithms-0.8-py3.8.egg/pyannote/algorithms/utils/viterbi.py:86: FutureWarning: arrays to stack must be passed as a \"sequence\" type such as list or tuple. Support for non-sequence iterables such as generators is deprecated as of NumPy 1.16 and will raise an error in the future.\n",
      "  return np.vstack(\n",
      "/home/ddoukhan/gitrepos/inaSpeechSegmenterAlbert/env/lib/python3.8/site-packages/pyannote.algorithms-0.8-py3.8.egg/pyannote/algorithms/utils/viterbi.py:95: FutureWarning: arrays to stack must be passed as a \"sequence\" type such as list or tuple. Support for non-sequence iterables such as generators is deprecated as of NumPy 1.16 and will raise an error in the future.\n",
      "  return np.vstack(\n"
     ]
    },
    {
     "name": "stdout",
     "output_type": "stream",
     "text": [
      "22/56 /home/ddoukhan/_Corpus_TransCis/VoixTrans/MtF/Mtf12 47/Mtf12La_bise20042021.wav Mtf12La_bise20042021\n"
     ]
    },
    {
     "name": "stderr",
     "output_type": "stream",
     "text": [
      "/home/ddoukhan/gitrepos/inaSpeechSegmenterAlbert/env/lib/python3.8/site-packages/pyannote.algorithms-0.8-py3.8.egg/pyannote/algorithms/utils/viterbi.py:86: FutureWarning: arrays to stack must be passed as a \"sequence\" type such as list or tuple. Support for non-sequence iterables such as generators is deprecated as of NumPy 1.16 and will raise an error in the future.\n",
      "  return np.vstack(\n",
      "/home/ddoukhan/gitrepos/inaSpeechSegmenterAlbert/env/lib/python3.8/site-packages/pyannote.algorithms-0.8-py3.8.egg/pyannote/algorithms/utils/viterbi.py:95: FutureWarning: arrays to stack must be passed as a \"sequence\" type such as list or tuple. Support for non-sequence iterables such as generators is deprecated as of NumPy 1.16 and will raise an error in the future.\n",
      "  return np.vstack(\n"
     ]
    },
    {
     "name": "stdout",
     "output_type": "stream",
     "text": [
      "23/56 /home/ddoukhan/_Corpus_TransCis/VoixTrans/MtF/Mtf12 47/Mtf12vn20042021.wav Mtf12vn20042021\n"
     ]
    },
    {
     "name": "stderr",
     "output_type": "stream",
     "text": [
      "/home/ddoukhan/gitrepos/inaSpeechSegmenterAlbert/env/lib/python3.8/site-packages/pyannote.algorithms-0.8-py3.8.egg/pyannote/algorithms/utils/viterbi.py:86: FutureWarning: arrays to stack must be passed as a \"sequence\" type such as list or tuple. Support for non-sequence iterables such as generators is deprecated as of NumPy 1.16 and will raise an error in the future.\n",
      "  return np.vstack(\n",
      "/home/ddoukhan/gitrepos/inaSpeechSegmenterAlbert/env/lib/python3.8/site-packages/pyannote.algorithms-0.8-py3.8.egg/pyannote/algorithms/utils/viterbi.py:95: FutureWarning: arrays to stack must be passed as a \"sequence\" type such as list or tuple. Support for non-sequence iterables such as generators is deprecated as of NumPy 1.16 and will raise an error in the future.\n",
      "  return np.vstack(\n"
     ]
    },
    {
     "name": "stdout",
     "output_type": "stream",
     "text": [
      "24/56 /home/ddoukhan/_Corpus_TransCis/VoixTrans/MtF/Mtf11 43/Mtf11vF02032021.wav Mtf11vF02032021\n"
     ]
    },
    {
     "name": "stderr",
     "output_type": "stream",
     "text": [
      "/home/ddoukhan/gitrepos/inaSpeechSegmenterAlbert/env/lib/python3.8/site-packages/pyannote.algorithms-0.8-py3.8.egg/pyannote/algorithms/utils/viterbi.py:86: FutureWarning: arrays to stack must be passed as a \"sequence\" type such as list or tuple. Support for non-sequence iterables such as generators is deprecated as of NumPy 1.16 and will raise an error in the future.\n",
      "  return np.vstack(\n",
      "/home/ddoukhan/gitrepos/inaSpeechSegmenterAlbert/env/lib/python3.8/site-packages/pyannote.algorithms-0.8-py3.8.egg/pyannote/algorithms/utils/viterbi.py:95: FutureWarning: arrays to stack must be passed as a \"sequence\" type such as list or tuple. Support for non-sequence iterables such as generators is deprecated as of NumPy 1.16 and will raise an error in the future.\n",
      "  return np.vstack(\n"
     ]
    },
    {
     "name": "stdout",
     "output_type": "stream",
     "text": [
      "25/56 /home/ddoukhan/_Corpus_TransCis/VoixTrans/MtF/Mtf11 43/Mtf11la_bise_02032021.wav Mtf11la_bise_02032021\n"
     ]
    },
    {
     "name": "stderr",
     "output_type": "stream",
     "text": [
      "/home/ddoukhan/gitrepos/inaSpeechSegmenterAlbert/env/lib/python3.8/site-packages/pyannote.algorithms-0.8-py3.8.egg/pyannote/algorithms/utils/viterbi.py:86: FutureWarning: arrays to stack must be passed as a \"sequence\" type such as list or tuple. Support for non-sequence iterables such as generators is deprecated as of NumPy 1.16 and will raise an error in the future.\n",
      "  return np.vstack(\n",
      "/home/ddoukhan/gitrepos/inaSpeechSegmenterAlbert/env/lib/python3.8/site-packages/pyannote.algorithms-0.8-py3.8.egg/pyannote/algorithms/utils/viterbi.py:95: FutureWarning: arrays to stack must be passed as a \"sequence\" type such as list or tuple. Support for non-sequence iterables such as generators is deprecated as of NumPy 1.16 and will raise an error in the future.\n",
      "  return np.vstack(\n"
     ]
    },
    {
     "name": "stdout",
     "output_type": "stream",
     "text": [
      "26/56 /home/ddoukhan/_Corpus_TransCis/VoixTrans/MtF/Mtf 5 61/MtF 5 28032021.wav MtF 5 28032021\n"
     ]
    },
    {
     "name": "stderr",
     "output_type": "stream",
     "text": [
      "/home/ddoukhan/gitrepos/inaSpeechSegmenterAlbert/env/lib/python3.8/site-packages/pyannote.algorithms-0.8-py3.8.egg/pyannote/algorithms/utils/viterbi.py:86: FutureWarning: arrays to stack must be passed as a \"sequence\" type such as list or tuple. Support for non-sequence iterables such as generators is deprecated as of NumPy 1.16 and will raise an error in the future.\n",
      "  return np.vstack(\n",
      "/home/ddoukhan/gitrepos/inaSpeechSegmenterAlbert/env/lib/python3.8/site-packages/pyannote.algorithms-0.8-py3.8.egg/pyannote/algorithms/utils/viterbi.py:95: FutureWarning: arrays to stack must be passed as a \"sequence\" type such as list or tuple. Support for non-sequence iterables such as generators is deprecated as of NumPy 1.16 and will raise an error in the future.\n",
      "  return np.vstack(\n"
     ]
    },
    {
     "name": "stdout",
     "output_type": "stream",
     "text": [
      "27/56 /home/ddoukhan/_Corpus_TransCis/VoixTrans/MtF/Mtf 5 61/MtF 5 La_bise28032021.wav MtF 5 La_bise28032021\n"
     ]
    },
    {
     "name": "stderr",
     "output_type": "stream",
     "text": [
      "/home/ddoukhan/gitrepos/inaSpeechSegmenterAlbert/env/lib/python3.8/site-packages/pyannote.algorithms-0.8-py3.8.egg/pyannote/algorithms/utils/viterbi.py:86: FutureWarning: arrays to stack must be passed as a \"sequence\" type such as list or tuple. Support for non-sequence iterables such as generators is deprecated as of NumPy 1.16 and will raise an error in the future.\n",
      "  return np.vstack(\n",
      "/home/ddoukhan/gitrepos/inaSpeechSegmenterAlbert/env/lib/python3.8/site-packages/pyannote.algorithms-0.8-py3.8.egg/pyannote/algorithms/utils/viterbi.py:95: FutureWarning: arrays to stack must be passed as a \"sequence\" type such as list or tuple. Support for non-sequence iterables such as generators is deprecated as of NumPy 1.16 and will raise an error in the future.\n",
      "  return np.vstack(\n"
     ]
    },
    {
     "name": "stdout",
     "output_type": "stream",
     "text": [
      "28/56 /home/ddoukhan/_Corpus_TransCis/VoixTrans/MtF/Mtf7 28/Mtf7242021.wav Mtf7242021\n"
     ]
    },
    {
     "name": "stderr",
     "output_type": "stream",
     "text": [
      "/home/ddoukhan/gitrepos/inaSpeechSegmenterAlbert/env/lib/python3.8/site-packages/pyannote.algorithms-0.8-py3.8.egg/pyannote/algorithms/utils/viterbi.py:86: FutureWarning: arrays to stack must be passed as a \"sequence\" type such as list or tuple. Support for non-sequence iterables such as generators is deprecated as of NumPy 1.16 and will raise an error in the future.\n",
      "  return np.vstack(\n",
      "/home/ddoukhan/gitrepos/inaSpeechSegmenterAlbert/env/lib/python3.8/site-packages/pyannote.algorithms-0.8-py3.8.egg/pyannote/algorithms/utils/viterbi.py:95: FutureWarning: arrays to stack must be passed as a \"sequence\" type such as list or tuple. Support for non-sequence iterables such as generators is deprecated as of NumPy 1.16 and will raise an error in the future.\n",
      "  return np.vstack(\n"
     ]
    },
    {
     "name": "stdout",
     "output_type": "stream",
     "text": [
      "29/56 /home/ddoukhan/_Corpus_TransCis/VoixTrans/MtF/Mtf7 28/Mtf7 la bise_242021.wav Mtf7 la bise_242021\n"
     ]
    },
    {
     "name": "stderr",
     "output_type": "stream",
     "text": [
      "/home/ddoukhan/gitrepos/inaSpeechSegmenterAlbert/env/lib/python3.8/site-packages/pyannote.algorithms-0.8-py3.8.egg/pyannote/algorithms/utils/viterbi.py:86: FutureWarning: arrays to stack must be passed as a \"sequence\" type such as list or tuple. Support for non-sequence iterables such as generators is deprecated as of NumPy 1.16 and will raise an error in the future.\n",
      "  return np.vstack(\n",
      "/home/ddoukhan/gitrepos/inaSpeechSegmenterAlbert/env/lib/python3.8/site-packages/pyannote.algorithms-0.8-py3.8.egg/pyannote/algorithms/utils/viterbi.py:95: FutureWarning: arrays to stack must be passed as a \"sequence\" type such as list or tuple. Support for non-sequence iterables such as generators is deprecated as of NumPy 1.16 and will raise an error in the future.\n",
      "  return np.vstack(\n"
     ]
    },
    {
     "name": "stdout",
     "output_type": "stream",
     "text": [
      "30/56 /home/ddoukhan/_Corpus_TransCis/VoixTrans/MtF/Mtf2 37/mtf2 vm.wav mtf2 vm\n"
     ]
    },
    {
     "name": "stderr",
     "output_type": "stream",
     "text": [
      "/home/ddoukhan/gitrepos/inaSpeechSegmenterAlbert/env/lib/python3.8/site-packages/pyannote.algorithms-0.8-py3.8.egg/pyannote/algorithms/utils/viterbi.py:86: FutureWarning: arrays to stack must be passed as a \"sequence\" type such as list or tuple. Support for non-sequence iterables such as generators is deprecated as of NumPy 1.16 and will raise an error in the future.\n",
      "  return np.vstack(\n",
      "/home/ddoukhan/gitrepos/inaSpeechSegmenterAlbert/env/lib/python3.8/site-packages/pyannote.algorithms-0.8-py3.8.egg/pyannote/algorithms/utils/viterbi.py:95: FutureWarning: arrays to stack must be passed as a \"sequence\" type such as list or tuple. Support for non-sequence iterables such as generators is deprecated as of NumPy 1.16 and will raise an error in the future.\n",
      "  return np.vstack(\n"
     ]
    },
    {
     "name": "stdout",
     "output_type": "stream",
     "text": [
      "31/56 /home/ddoukhan/_Corpus_TransCis/VoixTrans/MtF/Mtf2 37/mtf2. la bisewav.wav mtf2. la bisewav\n"
     ]
    },
    {
     "name": "stderr",
     "output_type": "stream",
     "text": [
      "/home/ddoukhan/gitrepos/inaSpeechSegmenterAlbert/env/lib/python3.8/site-packages/pyannote.algorithms-0.8-py3.8.egg/pyannote/algorithms/utils/viterbi.py:86: FutureWarning: arrays to stack must be passed as a \"sequence\" type such as list or tuple. Support for non-sequence iterables such as generators is deprecated as of NumPy 1.16 and will raise an error in the future.\n",
      "  return np.vstack(\n",
      "/home/ddoukhan/gitrepos/inaSpeechSegmenterAlbert/env/lib/python3.8/site-packages/pyannote.algorithms-0.8-py3.8.egg/pyannote/algorithms/utils/viterbi.py:95: FutureWarning: arrays to stack must be passed as a \"sequence\" type such as list or tuple. Support for non-sequence iterables such as generators is deprecated as of NumPy 1.16 and will raise an error in the future.\n",
      "  return np.vstack(\n"
     ]
    },
    {
     "name": "stdout",
     "output_type": "stream",
     "text": [
      "32/56 /home/ddoukhan/_Corpus_TransCis/VoixTrans/MtF/Mtf20/Mtf20_la_bise.wav Mtf20_la_bise\n"
     ]
    },
    {
     "name": "stderr",
     "output_type": "stream",
     "text": [
      "/home/ddoukhan/gitrepos/inaSpeechSegmenterAlbert/env/lib/python3.8/site-packages/pyannote.algorithms-0.8-py3.8.egg/pyannote/algorithms/utils/viterbi.py:86: FutureWarning: arrays to stack must be passed as a \"sequence\" type such as list or tuple. Support for non-sequence iterables such as generators is deprecated as of NumPy 1.16 and will raise an error in the future.\n",
      "  return np.vstack(\n",
      "/home/ddoukhan/gitrepos/inaSpeechSegmenterAlbert/env/lib/python3.8/site-packages/pyannote.algorithms-0.8-py3.8.egg/pyannote/algorithms/utils/viterbi.py:95: FutureWarning: arrays to stack must be passed as a \"sequence\" type such as list or tuple. Support for non-sequence iterables such as generators is deprecated as of NumPy 1.16 and will raise an error in the future.\n",
      "  return np.vstack(\n"
     ]
    },
    {
     "name": "stdout",
     "output_type": "stream",
     "text": [
      "33/56 /home/ddoukhan/_Corpus_TransCis/VoixTrans/MtF/Mtf20/Mtf20.wav Mtf20\n"
     ]
    },
    {
     "name": "stderr",
     "output_type": "stream",
     "text": [
      "/home/ddoukhan/gitrepos/inaSpeechSegmenterAlbert/env/lib/python3.8/site-packages/pyannote.algorithms-0.8-py3.8.egg/pyannote/algorithms/utils/viterbi.py:86: FutureWarning: arrays to stack must be passed as a \"sequence\" type such as list or tuple. Support for non-sequence iterables such as generators is deprecated as of NumPy 1.16 and will raise an error in the future.\n",
      "  return np.vstack(\n",
      "/home/ddoukhan/gitrepos/inaSpeechSegmenterAlbert/env/lib/python3.8/site-packages/pyannote.algorithms-0.8-py3.8.egg/pyannote/algorithms/utils/viterbi.py:95: FutureWarning: arrays to stack must be passed as a \"sequence\" type such as list or tuple. Support for non-sequence iterables such as generators is deprecated as of NumPy 1.16 and will raise an error in the future.\n",
      "  return np.vstack(\n"
     ]
    },
    {
     "name": "stdout",
     "output_type": "stream",
     "text": [
      "34/56 /home/ddoukhan/_Corpus_TransCis/VoixTrans/MtF/Mtf1 24/MtF1.wav MtF1\n"
     ]
    },
    {
     "name": "stderr",
     "output_type": "stream",
     "text": [
      "/home/ddoukhan/gitrepos/inaSpeechSegmenterAlbert/env/lib/python3.8/site-packages/pyannote.algorithms-0.8-py3.8.egg/pyannote/algorithms/utils/viterbi.py:86: FutureWarning: arrays to stack must be passed as a \"sequence\" type such as list or tuple. Support for non-sequence iterables such as generators is deprecated as of NumPy 1.16 and will raise an error in the future.\n",
      "  return np.vstack(\n",
      "/home/ddoukhan/gitrepos/inaSpeechSegmenterAlbert/env/lib/python3.8/site-packages/pyannote.algorithms-0.8-py3.8.egg/pyannote/algorithms/utils/viterbi.py:95: FutureWarning: arrays to stack must be passed as a \"sequence\" type such as list or tuple. Support for non-sequence iterables such as generators is deprecated as of NumPy 1.16 and will raise an error in the future.\n",
      "  return np.vstack(\n"
     ]
    },
    {
     "name": "stdout",
     "output_type": "stream",
     "text": [
      "35/56 /home/ddoukhan/_Corpus_TransCis/VoixTrans/MtF/Mtf1 24/MtF1 la_bise___.wav MtF1 la_bise___\n"
     ]
    },
    {
     "name": "stderr",
     "output_type": "stream",
     "text": [
      "/home/ddoukhan/gitrepos/inaSpeechSegmenterAlbert/env/lib/python3.8/site-packages/pyannote.algorithms-0.8-py3.8.egg/pyannote/algorithms/utils/viterbi.py:86: FutureWarning: arrays to stack must be passed as a \"sequence\" type such as list or tuple. Support for non-sequence iterables such as generators is deprecated as of NumPy 1.16 and will raise an error in the future.\n",
      "  return np.vstack(\n",
      "/home/ddoukhan/gitrepos/inaSpeechSegmenterAlbert/env/lib/python3.8/site-packages/pyannote.algorithms-0.8-py3.8.egg/pyannote/algorithms/utils/viterbi.py:95: FutureWarning: arrays to stack must be passed as a \"sequence\" type such as list or tuple. Support for non-sequence iterables such as generators is deprecated as of NumPy 1.16 and will raise an error in the future.\n",
      "  return np.vstack(\n"
     ]
    },
    {
     "name": "stdout",
     "output_type": "stream",
     "text": [
      "36/56 /home/ddoukhan/_Corpus_TransCis/VoixTrans/MtF/Mtf15 45/Mtf15.wav Mtf15\n"
     ]
    },
    {
     "name": "stderr",
     "output_type": "stream",
     "text": [
      "/home/ddoukhan/gitrepos/inaSpeechSegmenterAlbert/env/lib/python3.8/site-packages/pyannote.algorithms-0.8-py3.8.egg/pyannote/algorithms/utils/viterbi.py:86: FutureWarning: arrays to stack must be passed as a \"sequence\" type such as list or tuple. Support for non-sequence iterables such as generators is deprecated as of NumPy 1.16 and will raise an error in the future.\n",
      "  return np.vstack(\n",
      "/home/ddoukhan/gitrepos/inaSpeechSegmenterAlbert/env/lib/python3.8/site-packages/pyannote.algorithms-0.8-py3.8.egg/pyannote/algorithms/utils/viterbi.py:95: FutureWarning: arrays to stack must be passed as a \"sequence\" type such as list or tuple. Support for non-sequence iterables such as generators is deprecated as of NumPy 1.16 and will raise an error in the future.\n",
      "  return np.vstack(\n"
     ]
    },
    {
     "name": "stdout",
     "output_type": "stream",
     "text": [
      "37/56 /home/ddoukhan/_Corpus_TransCis/VoixTrans/MtF/Mtf15 45/Mtf15a_bise.wav Mtf15a_bise\n"
     ]
    },
    {
     "name": "stderr",
     "output_type": "stream",
     "text": [
      "/home/ddoukhan/gitrepos/inaSpeechSegmenterAlbert/env/lib/python3.8/site-packages/pyannote.algorithms-0.8-py3.8.egg/pyannote/algorithms/utils/viterbi.py:86: FutureWarning: arrays to stack must be passed as a \"sequence\" type such as list or tuple. Support for non-sequence iterables such as generators is deprecated as of NumPy 1.16 and will raise an error in the future.\n",
      "  return np.vstack(\n",
      "/home/ddoukhan/gitrepos/inaSpeechSegmenterAlbert/env/lib/python3.8/site-packages/pyannote.algorithms-0.8-py3.8.egg/pyannote/algorithms/utils/viterbi.py:95: FutureWarning: arrays to stack must be passed as a \"sequence\" type such as list or tuple. Support for non-sequence iterables such as generators is deprecated as of NumPy 1.16 and will raise an error in the future.\n",
      "  return np.vstack(\n"
     ]
    },
    {
     "name": "stdout",
     "output_type": "stream",
     "text": [
      "38/56 /home/ddoukhan/_Corpus_TransCis/VoixTrans/MtF/mtf13 43/Mtf13la_bise26042021.wav Mtf13la_bise26042021\n"
     ]
    },
    {
     "name": "stderr",
     "output_type": "stream",
     "text": [
      "/home/ddoukhan/gitrepos/inaSpeechSegmenterAlbert/env/lib/python3.8/site-packages/pyannote.algorithms-0.8-py3.8.egg/pyannote/algorithms/utils/viterbi.py:86: FutureWarning: arrays to stack must be passed as a \"sequence\" type such as list or tuple. Support for non-sequence iterables such as generators is deprecated as of NumPy 1.16 and will raise an error in the future.\n",
      "  return np.vstack(\n",
      "/home/ddoukhan/gitrepos/inaSpeechSegmenterAlbert/env/lib/python3.8/site-packages/pyannote.algorithms-0.8-py3.8.egg/pyannote/algorithms/utils/viterbi.py:95: FutureWarning: arrays to stack must be passed as a \"sequence\" type such as list or tuple. Support for non-sequence iterables such as generators is deprecated as of NumPy 1.16 and will raise an error in the future.\n",
      "  return np.vstack(\n"
     ]
    },
    {
     "name": "stdout",
     "output_type": "stream",
     "text": [
      "39/56 /home/ddoukhan/_Corpus_TransCis/VoixTrans/MtF/mtf13 43/Mtf13vn26042021.wav Mtf13vn26042021\n"
     ]
    },
    {
     "name": "stderr",
     "output_type": "stream",
     "text": [
      "/home/ddoukhan/gitrepos/inaSpeechSegmenterAlbert/env/lib/python3.8/site-packages/pyannote.algorithms-0.8-py3.8.egg/pyannote/algorithms/utils/viterbi.py:86: FutureWarning: arrays to stack must be passed as a \"sequence\" type such as list or tuple. Support for non-sequence iterables such as generators is deprecated as of NumPy 1.16 and will raise an error in the future.\n",
      "  return np.vstack(\n",
      "/home/ddoukhan/gitrepos/inaSpeechSegmenterAlbert/env/lib/python3.8/site-packages/pyannote.algorithms-0.8-py3.8.egg/pyannote/algorithms/utils/viterbi.py:95: FutureWarning: arrays to stack must be passed as a \"sequence\" type such as list or tuple. Support for non-sequence iterables such as generators is deprecated as of NumPy 1.16 and will raise an error in the future.\n",
      "  return np.vstack(\n"
     ]
    },
    {
     "name": "stdout",
     "output_type": "stream",
     "text": [
      "40/56 /home/ddoukhan/_Corpus_TransCis/VoixTrans/MtF/Mtf10 25/Mtf10la_bise.wav Mtf10la_bise\n"
     ]
    },
    {
     "name": "stderr",
     "output_type": "stream",
     "text": [
      "/home/ddoukhan/gitrepos/inaSpeechSegmenterAlbert/env/lib/python3.8/site-packages/pyannote.algorithms-0.8-py3.8.egg/pyannote/algorithms/utils/viterbi.py:86: FutureWarning: arrays to stack must be passed as a \"sequence\" type such as list or tuple. Support for non-sequence iterables such as generators is deprecated as of NumPy 1.16 and will raise an error in the future.\n",
      "  return np.vstack(\n",
      "/home/ddoukhan/gitrepos/inaSpeechSegmenterAlbert/env/lib/python3.8/site-packages/pyannote.algorithms-0.8-py3.8.egg/pyannote/algorithms/utils/viterbi.py:95: FutureWarning: arrays to stack must be passed as a \"sequence\" type such as list or tuple. Support for non-sequence iterables such as generators is deprecated as of NumPy 1.16 and will raise an error in the future.\n",
      "  return np.vstack(\n"
     ]
    },
    {
     "name": "stdout",
     "output_type": "stream",
     "text": [
      "41/56 /home/ddoukhan/_Corpus_TransCis/VoixTrans/MtF/Mtf10 25/Mtf10vF.wav Mtf10vF\n"
     ]
    },
    {
     "name": "stderr",
     "output_type": "stream",
     "text": [
      "/home/ddoukhan/gitrepos/inaSpeechSegmenterAlbert/env/lib/python3.8/site-packages/pyannote.algorithms-0.8-py3.8.egg/pyannote/algorithms/utils/viterbi.py:86: FutureWarning: arrays to stack must be passed as a \"sequence\" type such as list or tuple. Support for non-sequence iterables such as generators is deprecated as of NumPy 1.16 and will raise an error in the future.\n",
      "  return np.vstack(\n",
      "/home/ddoukhan/gitrepos/inaSpeechSegmenterAlbert/env/lib/python3.8/site-packages/pyannote.algorithms-0.8-py3.8.egg/pyannote/algorithms/utils/viterbi.py:95: FutureWarning: arrays to stack must be passed as a \"sequence\" type such as list or tuple. Support for non-sequence iterables such as generators is deprecated as of NumPy 1.16 and will raise an error in the future.\n",
      "  return np.vstack(\n"
     ]
    },
    {
     "name": "stdout",
     "output_type": "stream",
     "text": [
      "42/56 /home/ddoukhan/_Corpus_TransCis/VoixTrans/MtF/Mtf18/mtf18.wav mtf18\n"
     ]
    },
    {
     "name": "stderr",
     "output_type": "stream",
     "text": [
      "/home/ddoukhan/gitrepos/inaSpeechSegmenterAlbert/env/lib/python3.8/site-packages/pyannote.algorithms-0.8-py3.8.egg/pyannote/algorithms/utils/viterbi.py:86: FutureWarning: arrays to stack must be passed as a \"sequence\" type such as list or tuple. Support for non-sequence iterables such as generators is deprecated as of NumPy 1.16 and will raise an error in the future.\n",
      "  return np.vstack(\n",
      "/home/ddoukhan/gitrepos/inaSpeechSegmenterAlbert/env/lib/python3.8/site-packages/pyannote.algorithms-0.8-py3.8.egg/pyannote/algorithms/utils/viterbi.py:95: FutureWarning: arrays to stack must be passed as a \"sequence\" type such as list or tuple. Support for non-sequence iterables such as generators is deprecated as of NumPy 1.16 and will raise an error in the future.\n",
      "  return np.vstack(\n"
     ]
    },
    {
     "name": "stdout",
     "output_type": "stream",
     "text": [
      "43/56 /home/ddoukhan/_Corpus_TransCis/VoixTrans/MtF/Mtf18/Mtf18la_bise.wav Mtf18la_bise\n"
     ]
    },
    {
     "name": "stderr",
     "output_type": "stream",
     "text": [
      "/home/ddoukhan/gitrepos/inaSpeechSegmenterAlbert/env/lib/python3.8/site-packages/pyannote.algorithms-0.8-py3.8.egg/pyannote/algorithms/utils/viterbi.py:86: FutureWarning: arrays to stack must be passed as a \"sequence\" type such as list or tuple. Support for non-sequence iterables such as generators is deprecated as of NumPy 1.16 and will raise an error in the future.\n",
      "  return np.vstack(\n",
      "/home/ddoukhan/gitrepos/inaSpeechSegmenterAlbert/env/lib/python3.8/site-packages/pyannote.algorithms-0.8-py3.8.egg/pyannote/algorithms/utils/viterbi.py:95: FutureWarning: arrays to stack must be passed as a \"sequence\" type such as list or tuple. Support for non-sequence iterables such as generators is deprecated as of NumPy 1.16 and will raise an error in the future.\n",
      "  return np.vstack(\n"
     ]
    },
    {
     "name": "stdout",
     "output_type": "stream",
     "text": [
      "44/56 /home/ddoukhan/_Corpus_TransCis/VoixTrans/MtF/Mtf6 29/Mtf6la_bise_29032021.wav Mtf6la_bise_29032021\n"
     ]
    },
    {
     "name": "stderr",
     "output_type": "stream",
     "text": [
      "/home/ddoukhan/gitrepos/inaSpeechSegmenterAlbert/env/lib/python3.8/site-packages/pyannote.algorithms-0.8-py3.8.egg/pyannote/algorithms/utils/viterbi.py:86: FutureWarning: arrays to stack must be passed as a \"sequence\" type such as list or tuple. Support for non-sequence iterables such as generators is deprecated as of NumPy 1.16 and will raise an error in the future.\n",
      "  return np.vstack(\n",
      "/home/ddoukhan/gitrepos/inaSpeechSegmenterAlbert/env/lib/python3.8/site-packages/pyannote.algorithms-0.8-py3.8.egg/pyannote/algorithms/utils/viterbi.py:95: FutureWarning: arrays to stack must be passed as a \"sequence\" type such as list or tuple. Support for non-sequence iterables such as generators is deprecated as of NumPy 1.16 and will raise an error in the future.\n",
      "  return np.vstack(\n"
     ]
    },
    {
     "name": "stdout",
     "output_type": "stream",
     "text": [
      "45/56 /home/ddoukhan/_Corpus_TransCis/VoixTrans/MtF/Mtf6 29/MtF629032021.wav MtF629032021\n"
     ]
    },
    {
     "name": "stderr",
     "output_type": "stream",
     "text": [
      "/home/ddoukhan/gitrepos/inaSpeechSegmenterAlbert/env/lib/python3.8/site-packages/pyannote.algorithms-0.8-py3.8.egg/pyannote/algorithms/utils/viterbi.py:86: FutureWarning: arrays to stack must be passed as a \"sequence\" type such as list or tuple. Support for non-sequence iterables such as generators is deprecated as of NumPy 1.16 and will raise an error in the future.\n",
      "  return np.vstack(\n",
      "/home/ddoukhan/gitrepos/inaSpeechSegmenterAlbert/env/lib/python3.8/site-packages/pyannote.algorithms-0.8-py3.8.egg/pyannote/algorithms/utils/viterbi.py:95: FutureWarning: arrays to stack must be passed as a \"sequence\" type such as list or tuple. Support for non-sequence iterables such as generators is deprecated as of NumPy 1.16 and will raise an error in the future.\n",
      "  return np.vstack(\n"
     ]
    },
    {
     "name": "stdout",
     "output_type": "stream",
     "text": [
      "46/56 /home/ddoukhan/_Corpus_TransCis/VoixTrans/MtF/Mtf16 23/Mtf16la_bise.wav Mtf16la_bise\n"
     ]
    },
    {
     "name": "stderr",
     "output_type": "stream",
     "text": [
      "/home/ddoukhan/gitrepos/inaSpeechSegmenterAlbert/env/lib/python3.8/site-packages/pyannote.algorithms-0.8-py3.8.egg/pyannote/algorithms/utils/viterbi.py:86: FutureWarning: arrays to stack must be passed as a \"sequence\" type such as list or tuple. Support for non-sequence iterables such as generators is deprecated as of NumPy 1.16 and will raise an error in the future.\n",
      "  return np.vstack(\n",
      "/home/ddoukhan/gitrepos/inaSpeechSegmenterAlbert/env/lib/python3.8/site-packages/pyannote.algorithms-0.8-py3.8.egg/pyannote/algorithms/utils/viterbi.py:95: FutureWarning: arrays to stack must be passed as a \"sequence\" type such as list or tuple. Support for non-sequence iterables such as generators is deprecated as of NumPy 1.16 and will raise an error in the future.\n",
      "  return np.vstack(\n"
     ]
    },
    {
     "name": "stdout",
     "output_type": "stream",
     "text": [
      "47/56 /home/ddoukhan/_Corpus_TransCis/VoixTrans/MtF/Mtf16 23/Mtf16.wav Mtf16\n"
     ]
    },
    {
     "name": "stderr",
     "output_type": "stream",
     "text": [
      "/home/ddoukhan/gitrepos/inaSpeechSegmenterAlbert/env/lib/python3.8/site-packages/pyannote.algorithms-0.8-py3.8.egg/pyannote/algorithms/utils/viterbi.py:86: FutureWarning: arrays to stack must be passed as a \"sequence\" type such as list or tuple. Support for non-sequence iterables such as generators is deprecated as of NumPy 1.16 and will raise an error in the future.\n",
      "  return np.vstack(\n",
      "/home/ddoukhan/gitrepos/inaSpeechSegmenterAlbert/env/lib/python3.8/site-packages/pyannote.algorithms-0.8-py3.8.egg/pyannote/algorithms/utils/viterbi.py:95: FutureWarning: arrays to stack must be passed as a \"sequence\" type such as list or tuple. Support for non-sequence iterables such as generators is deprecated as of NumPy 1.16 and will raise an error in the future.\n",
      "  return np.vstack(\n"
     ]
    },
    {
     "name": "stdout",
     "output_type": "stream",
     "text": [
      "48/56 /home/ddoukhan/_Corpus_TransCis/VoixTrans/MtF/Mtf8 44/Mtf8la_bise19042021.wav Mtf8la_bise19042021\n"
     ]
    },
    {
     "name": "stderr",
     "output_type": "stream",
     "text": [
      "/home/ddoukhan/gitrepos/inaSpeechSegmenterAlbert/env/lib/python3.8/site-packages/pyannote.algorithms-0.8-py3.8.egg/pyannote/algorithms/utils/viterbi.py:86: FutureWarning: arrays to stack must be passed as a \"sequence\" type such as list or tuple. Support for non-sequence iterables such as generators is deprecated as of NumPy 1.16 and will raise an error in the future.\n",
      "  return np.vstack(\n",
      "/home/ddoukhan/gitrepos/inaSpeechSegmenterAlbert/env/lib/python3.8/site-packages/pyannote.algorithms-0.8-py3.8.egg/pyannote/algorithms/utils/viterbi.py:95: FutureWarning: arrays to stack must be passed as a \"sequence\" type such as list or tuple. Support for non-sequence iterables such as generators is deprecated as of NumPy 1.16 and will raise an error in the future.\n",
      "  return np.vstack(\n"
     ]
    },
    {
     "name": "stdout",
     "output_type": "stream",
     "text": [
      "49/56 /home/ddoukhan/_Corpus_TransCis/VoixTrans/MtF/Mtf8 44/Mtf8vn19042021.wav Mtf8vn19042021\n"
     ]
    },
    {
     "name": "stderr",
     "output_type": "stream",
     "text": [
      "/home/ddoukhan/gitrepos/inaSpeechSegmenterAlbert/env/lib/python3.8/site-packages/pyannote.algorithms-0.8-py3.8.egg/pyannote/algorithms/utils/viterbi.py:86: FutureWarning: arrays to stack must be passed as a \"sequence\" type such as list or tuple. Support for non-sequence iterables such as generators is deprecated as of NumPy 1.16 and will raise an error in the future.\n",
      "  return np.vstack(\n",
      "/home/ddoukhan/gitrepos/inaSpeechSegmenterAlbert/env/lib/python3.8/site-packages/pyannote.algorithms-0.8-py3.8.egg/pyannote/algorithms/utils/viterbi.py:95: FutureWarning: arrays to stack must be passed as a \"sequence\" type such as list or tuple. Support for non-sequence iterables such as generators is deprecated as of NumPy 1.16 and will raise an error in the future.\n",
      "  return np.vstack(\n"
     ]
    },
    {
     "name": "stdout",
     "output_type": "stream",
     "text": [
      "50/56 /home/ddoukhan/_Corpus_TransCis/VoixTrans/MtF/MtF17 22/Mtf 1703052021.wav Mtf 1703052021\n"
     ]
    },
    {
     "name": "stderr",
     "output_type": "stream",
     "text": [
      "/home/ddoukhan/gitrepos/inaSpeechSegmenterAlbert/env/lib/python3.8/site-packages/pyannote.algorithms-0.8-py3.8.egg/pyannote/algorithms/utils/viterbi.py:86: FutureWarning: arrays to stack must be passed as a \"sequence\" type such as list or tuple. Support for non-sequence iterables such as generators is deprecated as of NumPy 1.16 and will raise an error in the future.\n",
      "  return np.vstack(\n",
      "/home/ddoukhan/gitrepos/inaSpeechSegmenterAlbert/env/lib/python3.8/site-packages/pyannote.algorithms-0.8-py3.8.egg/pyannote/algorithms/utils/viterbi.py:95: FutureWarning: arrays to stack must be passed as a \"sequence\" type such as list or tuple. Support for non-sequence iterables such as generators is deprecated as of NumPy 1.16 and will raise an error in the future.\n",
      "  return np.vstack(\n"
     ]
    },
    {
     "name": "stdout",
     "output_type": "stream",
     "text": [
      "51/56 /home/ddoukhan/_Corpus_TransCis/VoixTrans/MtF/MtF17 22/Mtf17la_bise_03052021.wav Mtf17la_bise_03052021\n"
     ]
    },
    {
     "name": "stderr",
     "output_type": "stream",
     "text": [
      "/home/ddoukhan/gitrepos/inaSpeechSegmenterAlbert/env/lib/python3.8/site-packages/pyannote.algorithms-0.8-py3.8.egg/pyannote/algorithms/utils/viterbi.py:86: FutureWarning: arrays to stack must be passed as a \"sequence\" type such as list or tuple. Support for non-sequence iterables such as generators is deprecated as of NumPy 1.16 and will raise an error in the future.\n",
      "  return np.vstack(\n",
      "/home/ddoukhan/gitrepos/inaSpeechSegmenterAlbert/env/lib/python3.8/site-packages/pyannote.algorithms-0.8-py3.8.egg/pyannote/algorithms/utils/viterbi.py:95: FutureWarning: arrays to stack must be passed as a \"sequence\" type such as list or tuple. Support for non-sequence iterables such as generators is deprecated as of NumPy 1.16 and will raise an error in the future.\n",
      "  return np.vstack(\n"
     ]
    },
    {
     "name": "stdout",
     "output_type": "stream",
     "text": [
      "52/56 /home/ddoukhan/_Corpus_TransCis/VoixTrans/MtF/Mtf3 22/Mtf3vF.wav Mtf3vF\n"
     ]
    },
    {
     "name": "stderr",
     "output_type": "stream",
     "text": [
      "/home/ddoukhan/gitrepos/inaSpeechSegmenterAlbert/env/lib/python3.8/site-packages/pyannote.algorithms-0.8-py3.8.egg/pyannote/algorithms/utils/viterbi.py:86: FutureWarning: arrays to stack must be passed as a \"sequence\" type such as list or tuple. Support for non-sequence iterables such as generators is deprecated as of NumPy 1.16 and will raise an error in the future.\n",
      "  return np.vstack(\n",
      "/home/ddoukhan/gitrepos/inaSpeechSegmenterAlbert/env/lib/python3.8/site-packages/pyannote.algorithms-0.8-py3.8.egg/pyannote/algorithms/utils/viterbi.py:95: FutureWarning: arrays to stack must be passed as a \"sequence\" type such as list or tuple. Support for non-sequence iterables such as generators is deprecated as of NumPy 1.16 and will raise an error in the future.\n",
      "  return np.vstack(\n"
     ]
    },
    {
     "name": "stdout",
     "output_type": "stream",
     "text": [
      "53/56 /home/ddoukhan/_Corpus_TransCis/VoixTrans/MtF/Mtf3 22/MtF3la bisevm.wav MtF3la bisevm\n"
     ]
    },
    {
     "name": "stderr",
     "output_type": "stream",
     "text": [
      "/home/ddoukhan/gitrepos/inaSpeechSegmenterAlbert/env/lib/python3.8/site-packages/pyannote.algorithms-0.8-py3.8.egg/pyannote/algorithms/utils/viterbi.py:86: FutureWarning: arrays to stack must be passed as a \"sequence\" type such as list or tuple. Support for non-sequence iterables such as generators is deprecated as of NumPy 1.16 and will raise an error in the future.\n",
      "  return np.vstack(\n",
      "/home/ddoukhan/gitrepos/inaSpeechSegmenterAlbert/env/lib/python3.8/site-packages/pyannote.algorithms-0.8-py3.8.egg/pyannote/algorithms/utils/viterbi.py:95: FutureWarning: arrays to stack must be passed as a \"sequence\" type such as list or tuple. Support for non-sequence iterables such as generators is deprecated as of NumPy 1.16 and will raise an error in the future.\n",
      "  return np.vstack(\n"
     ]
    },
    {
     "name": "stdout",
     "output_type": "stream",
     "text": [
      "54/56 /home/ddoukhan/_Corpus_TransCis/VoixTrans/MtF/Mtf3 22/Mtf3vm.wav Mtf3vm\n"
     ]
    },
    {
     "name": "stderr",
     "output_type": "stream",
     "text": [
      "/home/ddoukhan/gitrepos/inaSpeechSegmenterAlbert/env/lib/python3.8/site-packages/pyannote.algorithms-0.8-py3.8.egg/pyannote/algorithms/utils/viterbi.py:86: FutureWarning: arrays to stack must be passed as a \"sequence\" type such as list or tuple. Support for non-sequence iterables such as generators is deprecated as of NumPy 1.16 and will raise an error in the future.\n",
      "  return np.vstack(\n",
      "/home/ddoukhan/gitrepos/inaSpeechSegmenterAlbert/env/lib/python3.8/site-packages/pyannote.algorithms-0.8-py3.8.egg/pyannote/algorithms/utils/viterbi.py:95: FutureWarning: arrays to stack must be passed as a \"sequence\" type such as list or tuple. Support for non-sequence iterables such as generators is deprecated as of NumPy 1.16 and will raise an error in the future.\n",
      "  return np.vstack(\n"
     ]
    },
    {
     "name": "stdout",
     "output_type": "stream",
     "text": [
      "55/56 /home/ddoukhan/_Corpus_TransCis/VoixTrans/MtF/Mtf3 22/MtF3la bisevf.wav MtF3la bisevf\n"
     ]
    },
    {
     "name": "stderr",
     "output_type": "stream",
     "text": [
      "/home/ddoukhan/gitrepos/inaSpeechSegmenterAlbert/env/lib/python3.8/site-packages/pyannote.algorithms-0.8-py3.8.egg/pyannote/algorithms/utils/viterbi.py:86: FutureWarning: arrays to stack must be passed as a \"sequence\" type such as list or tuple. Support for non-sequence iterables such as generators is deprecated as of NumPy 1.16 and will raise an error in the future.\n",
      "  return np.vstack(\n",
      "/home/ddoukhan/gitrepos/inaSpeechSegmenterAlbert/env/lib/python3.8/site-packages/pyannote.algorithms-0.8-py3.8.egg/pyannote/algorithms/utils/viterbi.py:95: FutureWarning: arrays to stack must be passed as a \"sequence\" type such as list or tuple. Support for non-sequence iterables such as generators is deprecated as of NumPy 1.16 and will raise an error in the future.\n",
      "  return np.vstack(\n"
     ]
    }
   ],
   "source": [
    "flist = glob.glob('/home/ddoukhan/_Corpus_TransCis/*/*/*/*.wav')\n",
    "for i, e in enumerate(flist):\n",
    "    \n",
    "    base, _ = os.path.splitext(os.path.basename(e))\n",
    "    print('%d/%d' % (i, len(flist)), e, base)\n",
    "    \n",
    "    segmentation = seg(e)\n",
    "    \n",
    "    lrec = [(a, b, c, d) for (a, b,c,d,_,_) in segmentation]\n",
    "    df = pd.DataFrame.from_records(lrec, columns=['label', 'start', 'stop', 'H0F1_proba'])\n",
    "    df.to_csv('./results/%s.seg.csv' % base, index=False)\n",
    "    \n",
    "    lidx = []\n",
    "    lvals = []\n",
    "    for (_,_,_,_,idx, vals) in segmentation:\n",
    "        if idx is None:\n",
    "            continue\n",
    "            \n",
    "        #print(len(idx), len(vals))\n",
    "        #print(idx)\n",
    "        #print(vals)\n",
    "        \n",
    "        idx = idx[vals==vals]\n",
    "        vals = vals[vals==vals]\n",
    "        lidx.extend(idx)\n",
    "        lvals.extend(vals)\n",
    "    df = pd.DataFrame()\n",
    "    df['idx_sec'] = lidx\n",
    "    df['H0F1_proba'] = lvals\n",
    "    df.to_csv('./results/%s.raw.csv' % base, index=False)\n",
    "    \n",
    "    \n"
   ]
  },
  {
   "cell_type": "code",
   "execution_count": 19,
   "metadata": {},
   "outputs": [
    {
     "name": "stdout",
     "output_type": "stream",
     "text": [
      "./results/Fcis1.seg.csv 0.9460884332656859 1.0\n",
      "./results/Fcis2.seg.csv 0.924090564250946 1.0\n",
      "./results/Fcis2_la_bise.seg.csv 0.8661810608264333 1.0\n",
      "./results/Fcis2la_bise.seg.csv 0.8712385291457846 1.0\n",
      "./results/Fcis3.seg.csv 0.9978944659233091 1.0\n",
      "./results/Ftm1.seg.csv 0.5539742047891363 0.5648854961832062\n",
      "./results/Ftm1la_bise.seg.csv 0.6500254599323678 0.798843930635838\n",
      "./results/MCis3.seg.csv 0.0557068437337875 0.0\n",
      "./results/MCis3La bise.seg.csv 0.019638459006226114 0.0\n",
      "./results/MCis4.seg.csv 0.0122922230511903 0.0\n",
      "./results/MCis4La bise.seg.csv 0.010441723195077595 0.0\n",
      "./results/MCis5.seg.csv 0.0002700044424273 0.0\n",
      "./results/MCis5La bise.seg.csv 0.04319380200418311 0.0\n",
      "./results/MtF 5 28032021.seg.csv 0.6214534044265747 1.0\n",
      "./results/MtF 5 La_bise28032021.seg.csv 0.4490697916487499 0.19711271515824536\n",
      "./results/MtF1 la_bise___.seg.csv 0.30276095272620246 0.1052066559312937\n",
      "./results/MtF1.seg.csv 0.184270903468132 0.0\n",
      "./results/MtF14labise.seg.csv 0.5105024086079868 0.4431455897980873\n",
      "./results/MtF3la bisevf.seg.csv 0.6732949889101104 0.9020013802622499\n",
      "./results/MtF3la bisevm.seg.csv 0.02192946247394406 0.0\n",
      "./results/MtF4la bise.seg.csv 0.11480161601691427 0.0\n",
      "./results/MtF4vF.seg.csv 0.937723696231842 1.0\n",
      "./results/MtF629032021.seg.csv 0.3086166094520135 0.30538922155688625\n",
      "./results/Mtf 1703052021.seg.csv 0.3967780470848083 0.0\n",
      "./results/Mtf10la_bise.seg.csv 0.1861483441514309 0.0\n",
      "./results/Mtf10vF.seg.csv 0.254592090845108 0.0\n",
      "./results/Mtf11la_bise_02032021.seg.csv 0.20699020135426852 0.052723059096176146\n",
      "./results/Mtf11vF02032021.seg.csv 0.12587637217581246 0.0\n",
      "./results/Mtf12La_bise20042021.seg.csv 0.02596117594550237 0.0\n",
      "./results/Mtf12vn20042021.seg.csv 0.0954553484916687 0.0\n",
      "./results/Mtf13la_bise26042021.seg.csv 0.8873272449995363 0.980749219562955\n",
      "./results/Mtf13vn26042021.seg.csv 0.878441572189331 1.0\n",
      "./results/Mtf14vn.seg.csv 0.2986694872379303 0.0\n",
      "./results/Mtf15.seg.csv nan nan\n",
      "./results/Mtf15a_bise.seg.csv 0.40385320109023143 0.11183431952662722\n"
     ]
    },
    {
     "name": "stderr",
     "output_type": "stream",
     "text": [
      "<ipython-input-19-a64057d9b460>:5: RuntimeWarning: invalid value encountered in double_scalars\n",
      "  H0F1_raw = (df.H0F1_proba * df.dur).sum() / df.dur.sum()\n",
      "<ipython-input-19-a64057d9b460>:7: RuntimeWarning: invalid value encountered in double_scalars\n",
      "  H0F1_seg = df.dur[df.label == 'female'].sum() / df.dur.sum()\n"
     ]
    },
    {
     "name": "stdout",
     "output_type": "stream",
     "text": [
      "./results/Mtf16.seg.csv 0.5276133418083191 1.0\n",
      "./results/Mtf16la_bise.seg.csv 0.32693209282216235 0.09408284023668637\n",
      "./results/Mtf17la_bise_03052021.seg.csv 0.31607997564545004 0.055948553054662314\n",
      "./results/Mtf18la_bise.seg.csv 0.021547916575399218 0.0\n",
      "./results/Mtf19.seg.csv 0.37866110477904624 0.39097744360902253\n",
      "./results/Mtf19_la_bise.seg.csv 0.2457252219030721 0.05478693967902602\n",
      "./results/Mtf20.seg.csv 0.0170145332813262 0.0\n",
      "./results/Mtf20_la_bise.seg.csv 0.12967866853605386 0.0\n",
      "./results/Mtf3vF.seg.csv 0.43016722798347473 0.0\n",
      "./results/Mtf3vm.seg.csv 0.1372129619121551 0.0\n",
      "./results/Mtf6la_bise_29032021.seg.csv 0.37772987327137125 0.05030487804878041\n",
      "./results/Mtf7 la bise_242021.seg.csv 0.7273017879249616 1.0\n",
      "./results/Mtf7242021.seg.csv 0.8922910094261169 1.0\n",
      "./results/Mtf8la_bise19042021.seg.csv 0.519568381250512 0.4746696035242292\n",
      "./results/Mtf8vn19042021.seg.csv 0.8342459201812743 1.0\n",
      "./results/Mtf9la_bise__23032021.seg.csv 0.03274098702047735 0.0\n",
      "./results/Mtf9vF23032021.seg.csv 0.0088386442512273 0.0\n",
      "./results/fcis3la_bise.seg.csv 0.9628148674964905 1.0\n",
      "./results/mtf18.seg.csv 0.1836875975131988 0.0\n",
      "./results/mtf2 vm.seg.csv 0.24250231683254242 0.0\n",
      "./results/mtf2. la bisewav.seg.csv 0.2215836306515428 0.0\n"
     ]
    }
   ],
   "source": [
    "for e in sorted(sorted(glob.glob('./results/*.seg.csv'))):\n",
    "    df = pd.read_csv(e)\n",
    "    df = df[df.H0F1_proba == df.H0F1_proba]\n",
    "    df['dur'] = df.stop - df.start\n",
    "    H0F1_raw = (df.H0F1_proba * df.dur).sum() / df.dur.sum()\n",
    "    \n",
    "    H0F1_seg = df.dur[df.label == 'female'].sum() / df.dur.sum()\n",
    "        \n",
    "    print(e, H0F1_raw, H0F1_seg)\n"
   ]
  },
  {
   "cell_type": "code",
   "execution_count": 21,
   "metadata": {},
   "outputs": [],
   "source": [
    "lrec = [(a, b, c, d) for (a, b,c,d,_,_) in segmentation]\n",
    "df = pd.DataFrame.from_records(lrec, columns=['label', 'start', 'stop', 'H0F1_proba'])\n",
    "df.to_csv('test_segments.csv', index=False)"
   ]
  },
  {
   "cell_type": "code",
   "execution_count": 24,
   "metadata": {},
   "outputs": [],
   "source": [
    "lidx = []\n",
    "lvals = []\n",
    "for (_,_,_,_,idx, vals) in segmentation:\n",
    "    if idx is None:\n",
    "        continue\n",
    "    idx = idx[vals==vals]\n",
    "    vals = vals[vals==vals]\n",
    "    lidx.extend(idx)\n",
    "    lvals.extend(vals)\n",
    "df = pd.DataFrame()\n",
    "df['idx_sec'] = lidx\n",
    "df['H0F1_proba'] = lvals\n",
    "df.to_csv('test_raw.csv', index=False)"
   ]
  },
  {
   "cell_type": "code",
   "execution_count": 32,
   "metadata": {},
   "outputs": [],
   "source": [
    "!mkdir results"
   ]
  },
  {
   "cell_type": "code",
   "execution_count": null,
   "metadata": {},
   "outputs": [],
   "source": []
  }
 ],
 "metadata": {
  "kernelspec": {
   "display_name": "Python 3",
   "language": "python",
   "name": "python3"
  },
  "language_info": {
   "codemirror_mode": {
    "name": "ipython",
    "version": 3
   },
   "file_extension": ".py",
   "mimetype": "text/x-python",
   "name": "python",
   "nbconvert_exporter": "python",
   "pygments_lexer": "ipython3",
   "version": "3.8.5"
  }
 },
 "nbformat": 4,
 "nbformat_minor": 2
}
